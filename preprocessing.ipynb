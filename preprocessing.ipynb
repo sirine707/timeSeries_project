{
  "cells": [
    {
      "cell_type": "code",
      "execution_count": 1,
      "id": "JLR4YyZdRLiD",
      "metadata": {
        "colab": {
          "base_uri": "https://localhost:8080/"
        },
        "id": "JLR4YyZdRLiD",
        "outputId": "930522a8-618f-4cd1-bc01-aad8b6878f9b"
      },
      "outputs": [
        {
          "output_type": "stream",
          "name": "stdout",
          "text": [
            "Mounted at /content/drive\n"
          ]
        }
      ],
      "source": [
        "from google.colab import drive\n",
        "drive.mount('/content/drive')"
      ]
    },
    {
      "cell_type": "code",
      "execution_count": 16,
      "id": "zJbnbAywoNyu",
      "metadata": {
        "id": "zJbnbAywoNyu"
      },
      "outputs": [],
      "source": [
        "import statsmodels.api as sm\n",
        "from statsmodels.tsa.seasonal import seasonal_decompose\n",
        "import matplotlib.pyplot as plt\n",
        "import seaborn as sns"
      ]
    },
    {
      "cell_type": "code",
      "execution_count": 2,
      "id": "c66db333-6a24-46ff-8263-9bce30f99c02",
      "metadata": {
        "id": "c66db333-6a24-46ff-8263-9bce30f99c02"
      },
      "outputs": [],
      "source": [
        "import pandas as pd\n",
        "import numpy as np\n",
        "jul_22=pd.read_excel(r'/content/drive/MyDrive/timeSeries_project/data/jul-22.xlsx')\n",
        "nov_22=pd.read_excel(r'/content/drive/MyDrive/timeSeries_project/data/nov-22.xlsx')\n",
        "feb_23=pd.read_excel(r'/content/drive/MyDrive/timeSeries_project/data/feb-23.xlsx')"
      ]
    },
    {
      "cell_type": "markdown",
      "id": "4_vwcKttcjX4",
      "metadata": {
        "id": "4_vwcKttcjX4"
      },
      "source": [
        "## Data Preprocessing"
      ]
    },
    {
      "cell_type": "code",
      "source": [
        "dfs=[jul_22,nov_22,feb_23]\n"
      ],
      "metadata": {
        "id": "nxVgdzLwW9rl"
      },
      "id": "nxVgdzLwW9rl",
      "execution_count": null,
      "outputs": []
    },
    {
      "cell_type": "code",
      "execution_count": null,
      "id": "7bb8eeb8-d5f4-41ee-b0ce-2a7571cd788b",
      "metadata": {
        "colab": {
          "base_uri": "https://localhost:8080/",
          "height": 211
        },
        "id": "7bb8eeb8-d5f4-41ee-b0ce-2a7571cd788b",
        "outputId": "111351dd-c9d0-48ed-93f1-e5a44c9abafa"
      },
      "outputs": [
        {
          "ename": "NameError",
          "evalue": "name 'nov_22' is not defined",
          "output_type": "error",
          "traceback": [
            "\u001b[0;31m---------------------------------------------------------------------------\u001b[0m",
            "\u001b[0;31mNameError\u001b[0m                                 Traceback (most recent call last)",
            "\u001b[0;32m<ipython-input-2-882cac51a978>\u001b[0m in \u001b[0;36m<cell line: 1>\u001b[0;34m()\u001b[0m\n\u001b[0;32m----> 1\u001b[0;31m \u001b[0mdfs\u001b[0m\u001b[0;34m=\u001b[0m\u001b[0;34m[\u001b[0m\u001b[0mjul_22\u001b[0m\u001b[0;34m,\u001b[0m\u001b[0mnov_22\u001b[0m\u001b[0;34m,\u001b[0m\u001b[0mfeb_23\u001b[0m\u001b[0;34m]\u001b[0m\u001b[0;34m\u001b[0m\u001b[0;34m\u001b[0m\u001b[0m\n\u001b[0m\u001b[1;32m      2\u001b[0m \u001b[0mindx\u001b[0m\u001b[0;34m=\u001b[0m\u001b[0;34m[\u001b[0m\u001b[0;34m\"jul_22\"\u001b[0m\u001b[0;34m,\u001b[0m\u001b[0;34m\"nov_22\"\u001b[0m\u001b[0;34m,\u001b[0m\u001b[0;34m\"feb_23\"\u001b[0m\u001b[0;34m]\u001b[0m\u001b[0;34m\u001b[0m\u001b[0;34m\u001b[0m\u001b[0m\n\u001b[1;32m      3\u001b[0m \u001b[0;32mfor\u001b[0m \u001b[0mi\u001b[0m\u001b[0;34m,\u001b[0m\u001b[0mdf\u001b[0m \u001b[0;32min\u001b[0m \u001b[0mzip\u001b[0m\u001b[0;34m(\u001b[0m\u001b[0mindx\u001b[0m\u001b[0;34m,\u001b[0m\u001b[0mdfs\u001b[0m\u001b[0;34m)\u001b[0m\u001b[0;34m:\u001b[0m\u001b[0;34m\u001b[0m\u001b[0;34m\u001b[0m\u001b[0m\n\u001b[1;32m      4\u001b[0m     \u001b[0mprint\u001b[0m\u001b[0;34m(\u001b[0m\u001b[0;34mf\"---------{i}--------\\n\"\u001b[0m\u001b[0;34m)\u001b[0m\u001b[0;34m\u001b[0m\u001b[0;34m\u001b[0m\u001b[0m\n\u001b[1;32m      5\u001b[0m     \u001b[0mprint\u001b[0m\u001b[0;34m(\u001b[0m\u001b[0mdf\u001b[0m\u001b[0;34m.\u001b[0m\u001b[0mshape\u001b[0m\u001b[0;34m)\u001b[0m\u001b[0;34m\u001b[0m\u001b[0;34m\u001b[0m\u001b[0m\n",
            "\u001b[0;31mNameError\u001b[0m: name 'nov_22' is not defined"
          ]
        }
      ],
      "source": [
        "indx=[\"jul_22\",\"nov_22\",\"feb_23\"]\n",
        "for i,df in zip(indx,dfs):\n",
        "    print(f\"---------{i}--------\\n\")\n",
        "    print(df.shape)\n",
        "    print(df.dtypes,\"\\n\")\n",
        "    print(df.describe())\n",
        "    print(f'\\n{df.isnull().sum()}\\n')\n"
      ]
    },
    {
      "cell_type": "markdown",
      "id": "3e9bfc25-8022-4c03-bf47-103120a48f9d",
      "metadata": {
        "id": "3e9bfc25-8022-4c03-bf47-103120a48f9d"
      },
      "source": [
        "#### Drop Columns"
      ]
    },
    {
      "cell_type": "code",
      "execution_count": null,
      "id": "dZPhHuQaKYNh",
      "metadata": {
        "colab": {
          "base_uri": "https://localhost:8080/"
        },
        "id": "dZPhHuQaKYNh",
        "outputId": "3e400487-32d2-4f9c-c7fe-e14ed8b8ec53"
      },
      "outputs": [
        {
          "name": "stdout",
          "output_type": "stream",
          "text": [
            "[99.46426629976344, 92.54921514450564, 40.51556401998973]\n",
            "[99.56556746896423, 94.85913923221442, 36.481869834005835]\n",
            "[99.60556614974993, 95.05900766380023, 39.25808656856043]\n"
          ]
        }
      ],
      "source": [
        "#calculate missing values purcentage in usage_op1\n",
        "for df in dfs:\n",
        "    na_pourcentage = []\n",
        "    na_op1 = (df['usage_op1'].isnull().sum() / len(df)) * 100\n",
        "    na_op2 = (df['usage_op2'].isnull().sum() / len(df)) * 100\n",
        "    na_op3 = (df['usage_op3'].isnull().sum() / len(df)) * 100\n",
        "    na_pourcentage.append(na_op1)\n",
        "    na_pourcentage.append(na_op2)\n",
        "    na_pourcentage.append(na_op3)\n",
        "    print(na_pourcentage)"
      ]
    },
    {
      "cell_type": "code",
      "execution_count": 3,
      "id": "vNYwljkLTVHl",
      "metadata": {
        "id": "vNYwljkLTVHl"
      },
      "outputs": [],
      "source": [
        "def drop_columns(data, columns_to_drop):\n",
        "    for df in data:\n",
        "        df.drop(columns=columns_to_drop, inplace=True)\n",
        "columns_to_drop = ['usage_op1', 'usage_op2', 'total_rev_sos']\n",
        "drop_columns(dfs, columns_to_drop)"
      ]
    },
    {
      "cell_type": "code",
      "execution_count": 4,
      "id": "77cfb4a7-c3a6-422c-8201-229a9205b666",
      "metadata": {
        "id": "77cfb4a7-c3a6-422c-8201-229a9205b666"
      },
      "outputs": [],
      "source": [
        "#drop dupliactes\n",
        "def drop_duplicates(data):\n",
        "    for df in data:\n",
        "        df.drop_duplicates(inplace=True)\n",
        "drop_duplicates(dfs)"
      ]
    },
    {
      "cell_type": "markdown",
      "id": "IrTna9EG_fU2",
      "metadata": {
        "id": "IrTna9EG_fU2"
      },
      "source": [
        "### Categorical Data"
      ]
    },
    {
      "cell_type": "code",
      "execution_count": null,
      "id": "fKt6vXS0drnW",
      "metadata": {
        "colab": {
          "base_uri": "https://localhost:8080/"
        },
        "id": "fKt6vXS0drnW",
        "outputId": "61618254-dbcc-41ad-a7dd-82b3472d867f"
      },
      "outputs": [
        {
          "data": {
            "text/plain": [
              "Index(['activation_date', 'entity_code', 'entity_type_name'], dtype='object')"
            ]
          },
          "execution_count": 18,
          "metadata": {},
          "output_type": "execute_result"
        }
      ],
      "source": [
        "jul_22.select_dtypes(include=['object']).columns"
      ]
    },
    {
      "cell_type": "code",
      "execution_count": 5,
      "id": "382eab85-9cbc-425d-952b-d5e0f45fa881",
      "metadata": {
        "id": "382eab85-9cbc-425d-952b-d5e0f45fa881"
      },
      "outputs": [],
      "source": [
        "# Dictionnaire de correspondance\n",
        "import re\n",
        "\n",
        "gouvernorats_map = {\n",
        "    \"TRA\": \"Agence Trade\",\n",
        "    \"ARI\": \"Ariana\",\n",
        "    \"BEJ\": \"Béja\",\n",
        "    \"BEN\": \"Ben Arous\",\n",
        "    \"AZUR\": \"Ben Arous\",\n",
        "    \"FOUCH\": \"Ben Arous\",\n",
        "    \"MJ\": \"Ben Arous\",\n",
        "    \"ZAR\": \"Zarsis\",\n",
        "    \"JER\": \"Djerba\",\n",
        "    \"BIZ\": \"Bizerte\",\n",
        "    \"KEF\": \"El Kef\",\n",
        "    \"GAB\": \"Gabès\",\n",
        "    \"GAF\": \"Gafsa\",\n",
        "    \"JEN\": \"Jendouba\",\n",
        "    \"KAI\": \"Kairouan\",\n",
        "    \"KAS\": \"Kasserine\",\n",
        "    \"KEB\": \"Kébili\",\n",
        "    \"MAH\": \"Mahdia\",\n",
        "    \"MAN\": \"Manouba\",\n",
        "    \"MED\": \"Medenine\",\n",
        "    \"MEDMED\": \"Medenine\",\n",
        "    \"MON\": \"Monastir\",\n",
        "    \"MOK\": \"Monastir\",\n",
        "    \"NAB\": \"Nabeul\",\n",
        "    \"HAM\": \"Nabeul\",\n",
        "    \"KLB\": \"Nabeul\",\n",
        "    \"SFA\": \"Sfax\",\n",
        "    \"SFXSFX\": \"Sfax\",\n",
        "    \"SFX\": \"Sfax\",\n",
        "    \"SID\": \"Sidi Bouzid\",\n",
        "    \"SIL\": \"Siliana\",\n",
        "    \"SOU\": \"Sousse\",\n",
        "    \"SAH\": \"Sousse\",\n",
        "    \"TAT\": \"Tataouine\",\n",
        "    \"TOZ\": \"Tozeur\",\n",
        "    \"TOZTOZ\": \"Tozeur\",\n",
        "    \"TUN\": \"Tunis\",\n",
        "    \"LAFLAF\": \"Tunis\",\n",
        "    \"LAC\": \"Tunis\",\n",
        "    \"ELM\": \"Tunis\",\n",
        "    \"AOU\": \"Tunis\",\n",
        "    \"MAR\": \"Tunis\",\n",
        "    \"HBOURG\": \"Tunis\",\n",
        "    \"ZAG\": \"Zaghouan\"\n",
        "}\n",
        "\n",
        "# Fonction pour mapper le gouvernorat\n",
        "def map_gouvernorat(code):\n",
        "    if code == \"NULL\" or pd.isna(code):  # Garder les valeurs nulles ou \"NULL\" comme tel\n",
        "        return code\n",
        "\n",
        "    # Chercher tous les préfixes du dictionnaire dans le code\n",
        "    for prefix, gouvernorat in gouvernorats_map.items():\n",
        "        if prefix in code:  # Si un préfixe est trouvé\n",
        "            return gouvernorat  # Retourner le gouvernorat correspondant\n",
        "\n",
        "    return code  # Garder la valeur d'origine si aucun préfixe n'est trouvé\n",
        "\n",
        "# Appliquer la fonction de mapping\n",
        "for df in dfs:\n",
        "    df['gouvernorat'] = df['entity_code'].apply(map_gouvernorat)\n",
        "    df.drop(columns=['entity_code'], inplace=True)"
      ]
    },
    {
      "cell_type": "code",
      "execution_count": 6,
      "id": "3922bbe1-b194-4aae-b4fc-b225d14d5fd9",
      "metadata": {
        "id": "3922bbe1-b194-4aae-b4fc-b225d14d5fd9"
      },
      "outputs": [],
      "source": [
        "'''DIRECT : AGENCE TRADE, TRAVEL RETAIL, FRANCHISE, BOUTIQUE, LAB2.0, AUTRES BOUTIQUES\n",
        "INDIRECT : INDIRECT, CONVENTION, PRO'''\n",
        "#map entity_type_name to DIRECT ou INDIRECT\n",
        "def map_entity_type_name(entity_type_name):\n",
        "    if entity_type_name in ['AGENCE TRADE', 'TRAVEL RETAIL', 'FRANCHISE', 'BOUTIQUE', 'LAB2.0', 'AUTRES BOUTIQUES']:\n",
        "        return 'DIRECT'\n",
        "    else:\n",
        "        return 'INDIRECT'\n",
        "for df in [jul_22]:\n",
        "    df['entity_type_name'] = df['entity_type_name'].apply(map_entity_type_name)"
      ]
    },
    {
      "cell_type": "code",
      "execution_count": 7,
      "id": "vWG6yUOMYNKJ",
      "metadata": {
        "id": "vWG6yUOMYNKJ",
        "colab": {
          "base_uri": "https://localhost:8080/"
        },
        "outputId": "c5b49af8-4deb-4d7a-9737-867cfa2d1699"
      },
      "outputs": [
        {
          "output_type": "stream",
          "name": "stderr",
          "text": [
            "<ipython-input-7-78100735e6e8>:3: FutureWarning: Series.fillna with 'method' is deprecated and will raise in a future version. Use obj.ffill() or obj.bfill() instead.\n",
            "  df['activation_date']=df['activation_date'].fillna(method=\"bfill\")\n"
          ]
        }
      ],
      "source": [
        "#drop nan values for categorical data\n",
        "for df in dfs:\n",
        "    df['activation_date']=df['activation_date'].fillna(method=\"bfill\")\n",
        "    df['gouvernorat']=df['gouvernorat'].fillna(df['gouvernorat'].mode()[0])\n",
        "    df['entity_type_name']=df['entity_type_name'].fillna(df['entity_type_name'].mode()[0])"
      ]
    },
    {
      "cell_type": "markdown",
      "id": "mck-mLCVd3np",
      "metadata": {
        "id": "mck-mLCVd3np"
      },
      "source": [
        "### Numerical Data"
      ]
    },
    {
      "cell_type": "code",
      "execution_count": 58,
      "id": "QYyCiQI5Zhkw",
      "metadata": {
        "colab": {
          "base_uri": "https://localhost:8080/"
        },
        "id": "QYyCiQI5Zhkw",
        "outputId": "8fa1dacc-e2f9-40a8-e18a-d5d9bfceccbb"
      },
      "outputs": [
        {
          "output_type": "execute_result",
          "data": {
            "text/plain": [
              "Index(['co_id', 'total_nb_recharge', 'total_rechage', 'total_u_data',\n",
              "       'total_rev_option', 'total_u_out', 'total_u_in', 'usage_op3',\n",
              "       'nb_cont_out', 'nb_cont_in', 'nb_cell_visite_out', 'nb_cell_visite_in',\n",
              "       'nbr_contrat', 'nbr_actif', 'flag_churn'],\n",
              "      dtype='object')"
            ]
          },
          "metadata": {},
          "execution_count": 58
        }
      ],
      "source": [
        "numerical_cols=df.select_dtypes(include=['int64', 'float64','datetime']).columns\n",
        "numerical_cols"
      ]
    },
    {
      "cell_type": "markdown",
      "id": "TiGMRhWHjmxT",
      "metadata": {
        "id": "TiGMRhWHjmxT"
      },
      "source": [
        "#### Data Imputing"
      ]
    },
    {
      "cell_type": "code",
      "source": [
        "# Calculate percentage of missing values\n",
        "missing_percentage = jul_22.isna().mean() * 100\n",
        "print(\"\\nPercentage of Missing Values:\\n\", missing_percentage)"
      ],
      "metadata": {
        "colab": {
          "base_uri": "https://localhost:8080/"
        },
        "id": "2ygyyz3M71kt",
        "outputId": "cb5e30a3-30d9-45f4-a36f-c66cef90b6fd"
      },
      "id": "2ygyyz3M71kt",
      "execution_count": 16,
      "outputs": [
        {
          "output_type": "stream",
          "name": "stdout",
          "text": [
            "\n",
            "Percentage of Missing Values:\n",
            " co_id                  0.000375\n",
            "activation_date        0.000375\n",
            "total_nb_recharge     10.778032\n",
            "total_rechage         10.778032\n",
            "total_u_data          17.720076\n",
            "total_rev_option      40.836104\n",
            "total_rev_sos         99.847415\n",
            "total_u_out            7.548259\n",
            "total_u_in            29.886367\n",
            "usage_op1             99.464266\n",
            "usage_op2             92.549215\n",
            "usage_op3             40.515564\n",
            "nb_cont_out            8.004139\n",
            "nb_cont_in             4.975688\n",
            "nb_cell_visite_out     8.004139\n",
            "nb_cell_visite_in      4.975688\n",
            "entity_code            3.083562\n",
            "entity_type_name       3.083562\n",
            "nbr_contrat            0.000375\n",
            "nbr_actif              0.000000\n",
            "flag_churn             0.000375\n",
            "dtype: float64\n"
          ]
        }
      ]
    },
    {
      "cell_type": "code",
      "execution_count": null,
      "id": "87T48JV3e0FR",
      "metadata": {
        "colab": {
          "base_uri": "https://localhost:8080/",
          "height": 176
        },
        "id": "87T48JV3e0FR",
        "outputId": "4bef2048-944d-4fd8-dec0-7826b0bccb7e"
      },
      "outputs": [
        {
          "ename": "NameError",
          "evalue": "name 'nov_22' is not defined",
          "output_type": "error",
          "traceback": [
            "\u001b[0;31m---------------------------------------------------------------------------\u001b[0m",
            "\u001b[0;31mNameError\u001b[0m                                 Traceback (most recent call last)",
            "\u001b[0;32m<ipython-input-7-0fc6220802a1>\u001b[0m in \u001b[0;36m<cell line: 2>\u001b[0;34m()\u001b[0m\n\u001b[1;32m      1\u001b[0m \u001b[0;31m#convert activation_date to data remove hours and seconds\u001b[0m\u001b[0;34m\u001b[0m\u001b[0;34m\u001b[0m\u001b[0m\n\u001b[0;32m----> 2\u001b[0;31m \u001b[0;32mfor\u001b[0m \u001b[0mdf\u001b[0m \u001b[0;32min\u001b[0m \u001b[0;34m[\u001b[0m\u001b[0mjul_22\u001b[0m\u001b[0;34m,\u001b[0m \u001b[0mnov_22\u001b[0m\u001b[0;34m,\u001b[0m \u001b[0mfeb_23\u001b[0m\u001b[0;34m]\u001b[0m\u001b[0;34m:\u001b[0m\u001b[0;34m\u001b[0m\u001b[0;34m\u001b[0m\u001b[0m\n\u001b[0m\u001b[1;32m      3\u001b[0m     \u001b[0mdf\u001b[0m\u001b[0;34m[\u001b[0m\u001b[0;34m'activation_date'\u001b[0m\u001b[0;34m]\u001b[0m \u001b[0;34m=\u001b[0m \u001b[0mpd\u001b[0m\u001b[0;34m.\u001b[0m\u001b[0mto_datetime\u001b[0m\u001b[0;34m(\u001b[0m\u001b[0mdf\u001b[0m\u001b[0;34m[\u001b[0m\u001b[0;34m'activation_date'\u001b[0m\u001b[0;34m]\u001b[0m\u001b[0;34m,\u001b[0m \u001b[0mformat\u001b[0m\u001b[0;34m=\u001b[0m\u001b[0;34m'%Y-%m-%d %H:%M:%S'\u001b[0m\u001b[0;34m)\u001b[0m\u001b[0;34m\u001b[0m\u001b[0;34m\u001b[0m\u001b[0m\n",
            "\u001b[0;31mNameError\u001b[0m: name 'nov_22' is not defined"
          ]
        }
      ],
      "source": [
        "#convert activation_date to date object\n",
        "for df in dfs:\n",
        "    df['activation_date'] = pd.to_datetime(df['activation_date'], format='%Y-%m-%d %H:%M:%S')"
      ]
    },
    {
      "cell_type": "code",
      "execution_count": null,
      "id": "LfRG332xlSGH",
      "metadata": {
        "colab": {
          "base_uri": "https://localhost:8080/",
          "height": 617
        },
        "id": "LfRG332xlSGH",
        "outputId": "f18473ed-d5ad-4172-dc53-e553277fc288"
      },
      "outputs": [
        {
          "data": {
            "application/vnd.google.colaboratory.intrinsic+json": {
              "summary": "{\n  \"name\": \"pd\",\n  \"rows\": 170,\n  \"fields\": [\n    {\n      \"column\": \"co_id\",\n      \"properties\": {\n        \"dtype\": \"number\",\n        \"std\": 1645011.3974030102,\n        \"min\": 33213475.0,\n        \"max\": 38809473.0,\n        \"num_unique_values\": 85,\n        \"samples\": [\n          38490153.0,\n          33213475.0,\n          38411910.0\n        ],\n        \"semantic_type\": \"\",\n        \"description\": \"\"\n      }\n    },\n    {\n      \"column\": \"activation_date\",\n      \"properties\": {\n        \"dtype\": \"date\",\n        \"min\": \"2022-07-01 08:47:02\",\n        \"max\": \"2022-07-30 20:22:31\",\n        \"num_unique_values\": 167,\n        \"samples\": [\n          \"2022-07-12 18:05:10\",\n          \"2022-07-08 12:07:44\",\n          \"2022-07-23 16:57:25\"\n        ],\n        \"semantic_type\": \"\",\n        \"description\": \"\"\n      }\n    },\n    {\n      \"column\": \"total_nb_recharge\",\n      \"properties\": {\n        \"dtype\": \"number\",\n        \"std\": 7.2555787923604145,\n        \"min\": 1.0,\n        \"max\": 39.0,\n        \"num_unique_values\": 19,\n        \"samples\": [\n          2.0,\n          4.0,\n          13.0\n        ],\n        \"semantic_type\": \"\",\n        \"description\": \"\"\n      }\n    },\n    {\n      \"column\": \"total_rechage\",\n      \"properties\": {\n        \"dtype\": \"number\",\n        \"std\": 12.427951839352177,\n        \"min\": 1.0,\n        \"max\": 75.0,\n        \"num_unique_values\": 39,\n        \"samples\": [\n          75.0,\n          14.3860001564026,\n          2.0\n        ],\n        \"semantic_type\": \"\",\n        \"description\": \"\"\n      }\n    },\n    {\n      \"column\": \"total_u_data\",\n      \"properties\": {\n        \"dtype\": \"number\",\n        \"std\": 2983217.3145757033,\n        \"min\": 0.0810546875,\n        \"max\": 12792470.3828125,\n        \"num_unique_values\": 76,\n        \"samples\": [\n          307200.0,\n          4826828.63183594,\n          6292075.11816406\n        ],\n        \"semantic_type\": \"\",\n        \"description\": \"\"\n      }\n    },\n    {\n      \"column\": \"total_rev_option\",\n      \"properties\": {\n        \"dtype\": \"number\",\n        \"std\": 9.801508061973491,\n        \"min\": 0.42016807,\n        \"max\": 38.57142817,\n        \"num_unique_values\": 43,\n        \"samples\": [\n          38.57142817,\n          0.42016807,\n          3.44537807\n        ],\n        \"semantic_type\": \"\",\n        \"description\": \"\"\n      }\n    },\n    {\n      \"column\": \"total_u_out\",\n      \"properties\": {\n        \"dtype\": \"number\",\n        \"std\": 160.85673867442108,\n        \"min\": 0.0,\n        \"max\": 957.632,\n        \"num_unique_values\": 83,\n        \"samples\": [\n          16.683,\n          174.083,\n          18.783\n        ],\n        \"semantic_type\": \"\",\n        \"description\": \"\"\n      }\n    },\n    {\n      \"column\": \"total_u_in\",\n      \"properties\": {\n        \"dtype\": \"number\",\n        \"std\": 126.75764454863445,\n        \"min\": 0.0,\n        \"max\": 1038.266,\n        \"num_unique_values\": 83,\n        \"samples\": [\n          27.934,\n          31.8,\n          1.083\n        ],\n        \"semantic_type\": \"\",\n        \"description\": \"\"\n      }\n    },\n    {\n      \"column\": \"usage_op3\",\n      \"properties\": {\n        \"dtype\": \"number\",\n        \"std\": 105.3667149184356,\n        \"min\": 0.0,\n        \"max\": 684.433,\n        \"num_unique_values\": 73,\n        \"samples\": [\n          0.0,\n          46.917,\n          15.983\n        ],\n        \"semantic_type\": \"\",\n        \"description\": \"\"\n      }\n    },\n    {\n      \"column\": \"nb_cont_out\",\n      \"properties\": {\n        \"dtype\": \"number\",\n        \"std\": 14.639151906262631,\n        \"min\": 1.0,\n        \"max\": 81.0,\n        \"num_unique_values\": 40,\n        \"samples\": [\n          15.0,\n          29.0,\n          21.0\n        ],\n        \"semantic_type\": \"\",\n        \"description\": \"\"\n      }\n    },\n    {\n      \"column\": \"nb_cont_in\",\n      \"properties\": {\n        \"dtype\": \"number\",\n        \"std\": 12.847679211467714,\n        \"min\": 3.0,\n        \"max\": 81.0,\n        \"num_unique_values\": 31,\n        \"samples\": [\n          11.0,\n          24.0,\n          33.0\n        ],\n        \"semantic_type\": \"\",\n        \"description\": \"\"\n      }\n    },\n    {\n      \"column\": \"nb_cell_visite_out\",\n      \"properties\": {\n        \"dtype\": \"number\",\n        \"std\": 17.718634749985984,\n        \"min\": 0.0,\n        \"max\": 108.0,\n        \"num_unique_values\": 28,\n        \"samples\": [\n          16.0,\n          39.0,\n          6.0\n        ],\n        \"semantic_type\": \"\",\n        \"description\": \"\"\n      }\n    },\n    {\n      \"column\": \"nb_cell_visite_in\",\n      \"properties\": {\n        \"dtype\": \"number\",\n        \"std\": 22.98443002705612,\n        \"min\": 2.0,\n        \"max\": 181.0,\n        \"num_unique_values\": 38,\n        \"samples\": [\n          73.0,\n          22.0,\n          6.0\n        ],\n        \"semantic_type\": \"\",\n        \"description\": \"\"\n      }\n    },\n    {\n      \"column\": \"entity_type_name\",\n      \"properties\": {\n        \"dtype\": \"category\",\n        \"num_unique_values\": 2,\n        \"samples\": [\n          \"INDIRECT\",\n          \"DIRECT\"\n        ],\n        \"semantic_type\": \"\",\n        \"description\": \"\"\n      }\n    },\n    {\n      \"column\": \"nbr_contrat\",\n      \"properties\": {\n        \"dtype\": \"number\",\n        \"std\": 200.29886476089686,\n        \"min\": 1.0,\n        \"max\": 1862.0,\n        \"num_unique_values\": 32,\n        \"samples\": [\n          19.0,\n          17.0\n        ],\n        \"semantic_type\": \"\",\n        \"description\": \"\"\n      }\n    },\n    {\n      \"column\": \"nbr_actif\",\n      \"properties\": {\n        \"dtype\": \"number\",\n        \"std\": 7495.049988193558,\n        \"min\": 0.0,\n        \"max\": 69751.0,\n        \"num_unique_values\": 21,\n        \"samples\": [\n          1.0,\n          69751.0\n        ],\n        \"semantic_type\": \"\",\n        \"description\": \"\"\n      }\n    },\n    {\n      \"column\": \"flag_churn\",\n      \"properties\": {\n        \"dtype\": \"number\",\n        \"std\": 0.49865813675074044,\n        \"min\": 0.0,\n        \"max\": 1.0,\n        \"num_unique_values\": 2,\n        \"samples\": [\n          0.0,\n          1.0\n        ],\n        \"semantic_type\": \"\",\n        \"description\": \"\"\n      }\n    },\n    {\n      \"column\": \"gouvernorat\",\n      \"properties\": {\n        \"dtype\": \"category\",\n        \"num_unique_values\": 24,\n        \"samples\": [\n          \"Ben Arous\",\n          \"MEHMEH14\"\n        ],\n        \"semantic_type\": \"\",\n        \"description\": \"\"\n      }\n    }\n  ]\n}",
              "type": "dataframe"
            },
            "text/html": [
              "\n",
              "  <div id=\"df-3c20216e-7207-4da2-8ed1-f30fd7d6ac93\" class=\"colab-df-container\">\n",
              "    <div>\n",
              "<style scoped>\n",
              "    .dataframe tbody tr th:only-of-type {\n",
              "        vertical-align: middle;\n",
              "    }\n",
              "\n",
              "    .dataframe tbody tr th {\n",
              "        vertical-align: top;\n",
              "    }\n",
              "\n",
              "    .dataframe thead th {\n",
              "        text-align: right;\n",
              "    }\n",
              "</style>\n",
              "<table border=\"1\" class=\"dataframe\">\n",
              "  <thead>\n",
              "    <tr style=\"text-align: right;\">\n",
              "      <th></th>\n",
              "      <th>co_id</th>\n",
              "      <th>activation_date</th>\n",
              "      <th>total_nb_recharge</th>\n",
              "      <th>total_rechage</th>\n",
              "      <th>total_u_data</th>\n",
              "      <th>total_rev_option</th>\n",
              "      <th>total_u_out</th>\n",
              "      <th>total_u_in</th>\n",
              "      <th>usage_op3</th>\n",
              "      <th>nb_cont_out</th>\n",
              "      <th>nb_cont_in</th>\n",
              "      <th>nb_cell_visite_out</th>\n",
              "      <th>nb_cell_visite_in</th>\n",
              "      <th>entity_type_name</th>\n",
              "      <th>nbr_contrat</th>\n",
              "      <th>nbr_actif</th>\n",
              "      <th>flag_churn</th>\n",
              "      <th>gouvernorat</th>\n",
              "    </tr>\n",
              "  </thead>\n",
              "  <tbody>\n",
              "    <tr>\n",
              "      <th>123203</th>\n",
              "      <td>33213475.0</td>\n",
              "      <td>2022-07-19 21:57:39</td>\n",
              "      <td>2.0</td>\n",
              "      <td>5.386</td>\n",
              "      <td>6.123520e+06</td>\n",
              "      <td>3.277311</td>\n",
              "      <td>174.083</td>\n",
              "      <td>31.800</td>\n",
              "      <td>10.017</td>\n",
              "      <td>24.0</td>\n",
              "      <td>23.0</td>\n",
              "      <td>18.0</td>\n",
              "      <td>25.0</td>\n",
              "      <td>DIRECT</td>\n",
              "      <td>53.0</td>\n",
              "      <td>1.0</td>\n",
              "      <td>1.0</td>\n",
              "      <td>Tunis</td>\n",
              "    </tr>\n",
              "    <tr>\n",
              "      <th>218532</th>\n",
              "      <td>33213475.0</td>\n",
              "      <td>2022-07-06 16:27:32</td>\n",
              "      <td>2.0</td>\n",
              "      <td>5.386</td>\n",
              "      <td>6.123520e+06</td>\n",
              "      <td>3.277311</td>\n",
              "      <td>174.083</td>\n",
              "      <td>31.800</td>\n",
              "      <td>10.017</td>\n",
              "      <td>24.0</td>\n",
              "      <td>23.0</td>\n",
              "      <td>18.0</td>\n",
              "      <td>25.0</td>\n",
              "      <td>DIRECT</td>\n",
              "      <td>53.0</td>\n",
              "      <td>0.0</td>\n",
              "      <td>1.0</td>\n",
              "      <td>Tunis</td>\n",
              "    </tr>\n",
              "    <tr>\n",
              "      <th>48321</th>\n",
              "      <td>33213496.0</td>\n",
              "      <td>2022-07-15 16:13:01</td>\n",
              "      <td>18.0</td>\n",
              "      <td>41.386</td>\n",
              "      <td>1.279247e+07</td>\n",
              "      <td>32.798319</td>\n",
              "      <td>142.799</td>\n",
              "      <td>81.251</td>\n",
              "      <td>29.017</td>\n",
              "      <td>18.0</td>\n",
              "      <td>19.0</td>\n",
              "      <td>14.0</td>\n",
              "      <td>29.0</td>\n",
              "      <td>DIRECT</td>\n",
              "      <td>40.0</td>\n",
              "      <td>2.0</td>\n",
              "      <td>0.0</td>\n",
              "      <td>Tunis</td>\n",
              "    </tr>\n",
              "    <tr>\n",
              "      <th>218533</th>\n",
              "      <td>33213496.0</td>\n",
              "      <td>2022-07-02 08:21:52</td>\n",
              "      <td>18.0</td>\n",
              "      <td>41.386</td>\n",
              "      <td>1.279247e+07</td>\n",
              "      <td>32.798319</td>\n",
              "      <td>142.799</td>\n",
              "      <td>81.251</td>\n",
              "      <td>29.017</td>\n",
              "      <td>18.0</td>\n",
              "      <td>19.0</td>\n",
              "      <td>14.0</td>\n",
              "      <td>29.0</td>\n",
              "      <td>DIRECT</td>\n",
              "      <td>40.0</td>\n",
              "      <td>12.0</td>\n",
              "      <td>0.0</td>\n",
              "      <td>Tunis</td>\n",
              "    </tr>\n",
              "    <tr>\n",
              "      <th>64993</th>\n",
              "      <td>33223120.0</td>\n",
              "      <td>2022-07-14 11:09:42</td>\n",
              "      <td>3.0</td>\n",
              "      <td>6.386</td>\n",
              "      <td>1.049519e+06</td>\n",
              "      <td>NaN</td>\n",
              "      <td>283.201</td>\n",
              "      <td>74.483</td>\n",
              "      <td>23.183</td>\n",
              "      <td>51.0</td>\n",
              "      <td>32.0</td>\n",
              "      <td>81.0</td>\n",
              "      <td>61.0</td>\n",
              "      <td>DIRECT</td>\n",
              "      <td>2.0</td>\n",
              "      <td>0.0</td>\n",
              "      <td>1.0</td>\n",
              "      <td>Tunis</td>\n",
              "    </tr>\n",
              "    <tr>\n",
              "      <th>...</th>\n",
              "      <td>...</td>\n",
              "      <td>...</td>\n",
              "      <td>...</td>\n",
              "      <td>...</td>\n",
              "      <td>...</td>\n",
              "      <td>...</td>\n",
              "      <td>...</td>\n",
              "      <td>...</td>\n",
              "      <td>...</td>\n",
              "      <td>...</td>\n",
              "      <td>...</td>\n",
              "      <td>...</td>\n",
              "      <td>...</td>\n",
              "      <td>...</td>\n",
              "      <td>...</td>\n",
              "      <td>...</td>\n",
              "      <td>...</td>\n",
              "      <td>...</td>\n",
              "    </tr>\n",
              "    <tr>\n",
              "      <th>222462</th>\n",
              "      <td>38499180.0</td>\n",
              "      <td>2022-07-20 09:40:22</td>\n",
              "      <td>2.0</td>\n",
              "      <td>2.000</td>\n",
              "      <td>8.173251e+04</td>\n",
              "      <td>NaN</td>\n",
              "      <td>23.067</td>\n",
              "      <td>12.267</td>\n",
              "      <td>2.200</td>\n",
              "      <td>10.0</td>\n",
              "      <td>12.0</td>\n",
              "      <td>5.0</td>\n",
              "      <td>10.0</td>\n",
              "      <td>DIRECT</td>\n",
              "      <td>1.0</td>\n",
              "      <td>2.0</td>\n",
              "      <td>0.0</td>\n",
              "      <td>Nabeul</td>\n",
              "    </tr>\n",
              "    <tr>\n",
              "      <th>43736</th>\n",
              "      <td>38501070.0</td>\n",
              "      <td>2022-07-30 13:09:36</td>\n",
              "      <td>5.0</td>\n",
              "      <td>5.000</td>\n",
              "      <td>1.456656e+06</td>\n",
              "      <td>3.697479</td>\n",
              "      <td>47.234</td>\n",
              "      <td>10.284</td>\n",
              "      <td>33.850</td>\n",
              "      <td>17.0</td>\n",
              "      <td>20.0</td>\n",
              "      <td>20.0</td>\n",
              "      <td>26.0</td>\n",
              "      <td>DIRECT</td>\n",
              "      <td>2.0</td>\n",
              "      <td>2.0</td>\n",
              "      <td>0.0</td>\n",
              "      <td>Ben Arous</td>\n",
              "    </tr>\n",
              "    <tr>\n",
              "      <th>204617</th>\n",
              "      <td>38501070.0</td>\n",
              "      <td>2022-07-20 12:19:38</td>\n",
              "      <td>5.0</td>\n",
              "      <td>5.000</td>\n",
              "      <td>1.456656e+06</td>\n",
              "      <td>3.697479</td>\n",
              "      <td>47.234</td>\n",
              "      <td>10.284</td>\n",
              "      <td>33.850</td>\n",
              "      <td>17.0</td>\n",
              "      <td>20.0</td>\n",
              "      <td>20.0</td>\n",
              "      <td>26.0</td>\n",
              "      <td>DIRECT</td>\n",
              "      <td>2.0</td>\n",
              "      <td>0.0</td>\n",
              "      <td>0.0</td>\n",
              "      <td>Ben Arous</td>\n",
              "    </tr>\n",
              "    <tr>\n",
              "      <th>64181</th>\n",
              "      <td>38809473.0</td>\n",
              "      <td>2022-07-30 16:23:50</td>\n",
              "      <td>NaN</td>\n",
              "      <td>NaN</td>\n",
              "      <td>NaN</td>\n",
              "      <td>NaN</td>\n",
              "      <td>0.000</td>\n",
              "      <td>0.100</td>\n",
              "      <td>NaN</td>\n",
              "      <td>1.0</td>\n",
              "      <td>4.0</td>\n",
              "      <td>0.0</td>\n",
              "      <td>10.0</td>\n",
              "      <td>INDIRECT</td>\n",
              "      <td>2.0</td>\n",
              "      <td>5.0</td>\n",
              "      <td>0.0</td>\n",
              "      <td>Nabeul</td>\n",
              "    </tr>\n",
              "    <tr>\n",
              "      <th>64182</th>\n",
              "      <td>38809473.0</td>\n",
              "      <td>2022-07-30 16:23:50</td>\n",
              "      <td>NaN</td>\n",
              "      <td>NaN</td>\n",
              "      <td>NaN</td>\n",
              "      <td>NaN</td>\n",
              "      <td>0.000</td>\n",
              "      <td>0.100</td>\n",
              "      <td>NaN</td>\n",
              "      <td>1.0</td>\n",
              "      <td>4.0</td>\n",
              "      <td>0.0</td>\n",
              "      <td>10.0</td>\n",
              "      <td>INDIRECT</td>\n",
              "      <td>2.0</td>\n",
              "      <td>1.0</td>\n",
              "      <td>0.0</td>\n",
              "      <td>Nabeul</td>\n",
              "    </tr>\n",
              "  </tbody>\n",
              "</table>\n",
              "<p>170 rows × 18 columns</p>\n",
              "</div>\n",
              "    <div class=\"colab-df-buttons\">\n",
              "\n",
              "  <div class=\"colab-df-container\">\n",
              "    <button class=\"colab-df-convert\" onclick=\"convertToInteractive('df-3c20216e-7207-4da2-8ed1-f30fd7d6ac93')\"\n",
              "            title=\"Convert this dataframe to an interactive table.\"\n",
              "            style=\"display:none;\">\n",
              "\n",
              "  <svg xmlns=\"http://www.w3.org/2000/svg\" height=\"24px\" viewBox=\"0 -960 960 960\">\n",
              "    <path d=\"M120-120v-720h720v720H120Zm60-500h600v-160H180v160Zm220 220h160v-160H400v160Zm0 220h160v-160H400v160ZM180-400h160v-160H180v160Zm440 0h160v-160H620v160ZM180-180h160v-160H180v160Zm440 0h160v-160H620v160Z\"/>\n",
              "  </svg>\n",
              "    </button>\n",
              "\n",
              "  <style>\n",
              "    .colab-df-container {\n",
              "      display:flex;\n",
              "      gap: 12px;\n",
              "    }\n",
              "\n",
              "    .colab-df-convert {\n",
              "      background-color: #E8F0FE;\n",
              "      border: none;\n",
              "      border-radius: 50%;\n",
              "      cursor: pointer;\n",
              "      display: none;\n",
              "      fill: #1967D2;\n",
              "      height: 32px;\n",
              "      padding: 0 0 0 0;\n",
              "      width: 32px;\n",
              "    }\n",
              "\n",
              "    .colab-df-convert:hover {\n",
              "      background-color: #E2EBFA;\n",
              "      box-shadow: 0px 1px 2px rgba(60, 64, 67, 0.3), 0px 1px 3px 1px rgba(60, 64, 67, 0.15);\n",
              "      fill: #174EA6;\n",
              "    }\n",
              "\n",
              "    .colab-df-buttons div {\n",
              "      margin-bottom: 4px;\n",
              "    }\n",
              "\n",
              "    [theme=dark] .colab-df-convert {\n",
              "      background-color: #3B4455;\n",
              "      fill: #D2E3FC;\n",
              "    }\n",
              "\n",
              "    [theme=dark] .colab-df-convert:hover {\n",
              "      background-color: #434B5C;\n",
              "      box-shadow: 0px 1px 3px 1px rgba(0, 0, 0, 0.15);\n",
              "      filter: drop-shadow(0px 1px 2px rgba(0, 0, 0, 0.3));\n",
              "      fill: #FFFFFF;\n",
              "    }\n",
              "  </style>\n",
              "\n",
              "    <script>\n",
              "      const buttonEl =\n",
              "        document.querySelector('#df-3c20216e-7207-4da2-8ed1-f30fd7d6ac93 button.colab-df-convert');\n",
              "      buttonEl.style.display =\n",
              "        google.colab.kernel.accessAllowed ? 'block' : 'none';\n",
              "\n",
              "      async function convertToInteractive(key) {\n",
              "        const element = document.querySelector('#df-3c20216e-7207-4da2-8ed1-f30fd7d6ac93');\n",
              "        const dataTable =\n",
              "          await google.colab.kernel.invokeFunction('convertToInteractive',\n",
              "                                                    [key], {});\n",
              "        if (!dataTable) return;\n",
              "\n",
              "        const docLinkHtml = 'Like what you see? Visit the ' +\n",
              "          '<a target=\"_blank\" href=https://colab.research.google.com/notebooks/data_table.ipynb>data table notebook</a>'\n",
              "          + ' to learn more about interactive tables.';\n",
              "        element.innerHTML = '';\n",
              "        dataTable['output_type'] = 'display_data';\n",
              "        await google.colab.output.renderOutput(dataTable, element);\n",
              "        const docLink = document.createElement('div');\n",
              "        docLink.innerHTML = docLinkHtml;\n",
              "        element.appendChild(docLink);\n",
              "      }\n",
              "    </script>\n",
              "  </div>\n",
              "\n",
              "\n",
              "<div id=\"df-c9f7fe70-f27a-485d-ad7b-c59dd1cbeded\">\n",
              "  <button class=\"colab-df-quickchart\" onclick=\"quickchart('df-c9f7fe70-f27a-485d-ad7b-c59dd1cbeded')\"\n",
              "            title=\"Suggest charts\"\n",
              "            style=\"display:none;\">\n",
              "\n",
              "<svg xmlns=\"http://www.w3.org/2000/svg\" height=\"24px\"viewBox=\"0 0 24 24\"\n",
              "     width=\"24px\">\n",
              "    <g>\n",
              "        <path d=\"M19 3H5c-1.1 0-2 .9-2 2v14c0 1.1.9 2 2 2h14c1.1 0 2-.9 2-2V5c0-1.1-.9-2-2-2zM9 17H7v-7h2v7zm4 0h-2V7h2v10zm4 0h-2v-4h2v4z\"/>\n",
              "    </g>\n",
              "</svg>\n",
              "  </button>\n",
              "\n",
              "<style>\n",
              "  .colab-df-quickchart {\n",
              "      --bg-color: #E8F0FE;\n",
              "      --fill-color: #1967D2;\n",
              "      --hover-bg-color: #E2EBFA;\n",
              "      --hover-fill-color: #174EA6;\n",
              "      --disabled-fill-color: #AAA;\n",
              "      --disabled-bg-color: #DDD;\n",
              "  }\n",
              "\n",
              "  [theme=dark] .colab-df-quickchart {\n",
              "      --bg-color: #3B4455;\n",
              "      --fill-color: #D2E3FC;\n",
              "      --hover-bg-color: #434B5C;\n",
              "      --hover-fill-color: #FFFFFF;\n",
              "      --disabled-bg-color: #3B4455;\n",
              "      --disabled-fill-color: #666;\n",
              "  }\n",
              "\n",
              "  .colab-df-quickchart {\n",
              "    background-color: var(--bg-color);\n",
              "    border: none;\n",
              "    border-radius: 50%;\n",
              "    cursor: pointer;\n",
              "    display: none;\n",
              "    fill: var(--fill-color);\n",
              "    height: 32px;\n",
              "    padding: 0;\n",
              "    width: 32px;\n",
              "  }\n",
              "\n",
              "  .colab-df-quickchart:hover {\n",
              "    background-color: var(--hover-bg-color);\n",
              "    box-shadow: 0 1px 2px rgba(60, 64, 67, 0.3), 0 1px 3px 1px rgba(60, 64, 67, 0.15);\n",
              "    fill: var(--button-hover-fill-color);\n",
              "  }\n",
              "\n",
              "  .colab-df-quickchart-complete:disabled,\n",
              "  .colab-df-quickchart-complete:disabled:hover {\n",
              "    background-color: var(--disabled-bg-color);\n",
              "    fill: var(--disabled-fill-color);\n",
              "    box-shadow: none;\n",
              "  }\n",
              "\n",
              "  .colab-df-spinner {\n",
              "    border: 2px solid var(--fill-color);\n",
              "    border-color: transparent;\n",
              "    border-bottom-color: var(--fill-color);\n",
              "    animation:\n",
              "      spin 1s steps(1) infinite;\n",
              "  }\n",
              "\n",
              "  @keyframes spin {\n",
              "    0% {\n",
              "      border-color: transparent;\n",
              "      border-bottom-color: var(--fill-color);\n",
              "      border-left-color: var(--fill-color);\n",
              "    }\n",
              "    20% {\n",
              "      border-color: transparent;\n",
              "      border-left-color: var(--fill-color);\n",
              "      border-top-color: var(--fill-color);\n",
              "    }\n",
              "    30% {\n",
              "      border-color: transparent;\n",
              "      border-left-color: var(--fill-color);\n",
              "      border-top-color: var(--fill-color);\n",
              "      border-right-color: var(--fill-color);\n",
              "    }\n",
              "    40% {\n",
              "      border-color: transparent;\n",
              "      border-right-color: var(--fill-color);\n",
              "      border-top-color: var(--fill-color);\n",
              "    }\n",
              "    60% {\n",
              "      border-color: transparent;\n",
              "      border-right-color: var(--fill-color);\n",
              "    }\n",
              "    80% {\n",
              "      border-color: transparent;\n",
              "      border-right-color: var(--fill-color);\n",
              "      border-bottom-color: var(--fill-color);\n",
              "    }\n",
              "    90% {\n",
              "      border-color: transparent;\n",
              "      border-bottom-color: var(--fill-color);\n",
              "    }\n",
              "  }\n",
              "</style>\n",
              "\n",
              "  <script>\n",
              "    async function quickchart(key) {\n",
              "      const quickchartButtonEl =\n",
              "        document.querySelector('#' + key + ' button');\n",
              "      quickchartButtonEl.disabled = true;  // To prevent multiple clicks.\n",
              "      quickchartButtonEl.classList.add('colab-df-spinner');\n",
              "      try {\n",
              "        const charts = await google.colab.kernel.invokeFunction(\n",
              "            'suggestCharts', [key], {});\n",
              "      } catch (error) {\n",
              "        console.error('Error during call to suggestCharts:', error);\n",
              "      }\n",
              "      quickchartButtonEl.classList.remove('colab-df-spinner');\n",
              "      quickchartButtonEl.classList.add('colab-df-quickchart-complete');\n",
              "    }\n",
              "    (() => {\n",
              "      let quickchartButtonEl =\n",
              "        document.querySelector('#df-c9f7fe70-f27a-485d-ad7b-c59dd1cbeded button');\n",
              "      quickchartButtonEl.style.display =\n",
              "        google.colab.kernel.accessAllowed ? 'block' : 'none';\n",
              "    })();\n",
              "  </script>\n",
              "</div>\n",
              "\n",
              "    </div>\n",
              "  </div>\n"
            ],
            "text/plain": [
              "             co_id     activation_date  total_nb_recharge  total_rechage  \\\n",
              "123203  33213475.0 2022-07-19 21:57:39                2.0          5.386   \n",
              "218532  33213475.0 2022-07-06 16:27:32                2.0          5.386   \n",
              "48321   33213496.0 2022-07-15 16:13:01               18.0         41.386   \n",
              "218533  33213496.0 2022-07-02 08:21:52               18.0         41.386   \n",
              "64993   33223120.0 2022-07-14 11:09:42                3.0          6.386   \n",
              "...            ...                 ...                ...            ...   \n",
              "222462  38499180.0 2022-07-20 09:40:22                2.0          2.000   \n",
              "43736   38501070.0 2022-07-30 13:09:36                5.0          5.000   \n",
              "204617  38501070.0 2022-07-20 12:19:38                5.0          5.000   \n",
              "64181   38809473.0 2022-07-30 16:23:50                NaN            NaN   \n",
              "64182   38809473.0 2022-07-30 16:23:50                NaN            NaN   \n",
              "\n",
              "        total_u_data  total_rev_option  total_u_out  total_u_in  usage_op3  \\\n",
              "123203  6.123520e+06          3.277311      174.083      31.800     10.017   \n",
              "218532  6.123520e+06          3.277311      174.083      31.800     10.017   \n",
              "48321   1.279247e+07         32.798319      142.799      81.251     29.017   \n",
              "218533  1.279247e+07         32.798319      142.799      81.251     29.017   \n",
              "64993   1.049519e+06               NaN      283.201      74.483     23.183   \n",
              "...              ...               ...          ...         ...        ...   \n",
              "222462  8.173251e+04               NaN       23.067      12.267      2.200   \n",
              "43736   1.456656e+06          3.697479       47.234      10.284     33.850   \n",
              "204617  1.456656e+06          3.697479       47.234      10.284     33.850   \n",
              "64181            NaN               NaN        0.000       0.100        NaN   \n",
              "64182            NaN               NaN        0.000       0.100        NaN   \n",
              "\n",
              "        nb_cont_out  nb_cont_in  nb_cell_visite_out  nb_cell_visite_in  \\\n",
              "123203         24.0        23.0                18.0               25.0   \n",
              "218532         24.0        23.0                18.0               25.0   \n",
              "48321          18.0        19.0                14.0               29.0   \n",
              "218533         18.0        19.0                14.0               29.0   \n",
              "64993          51.0        32.0                81.0               61.0   \n",
              "...             ...         ...                 ...                ...   \n",
              "222462         10.0        12.0                 5.0               10.0   \n",
              "43736          17.0        20.0                20.0               26.0   \n",
              "204617         17.0        20.0                20.0               26.0   \n",
              "64181           1.0         4.0                 0.0               10.0   \n",
              "64182           1.0         4.0                 0.0               10.0   \n",
              "\n",
              "       entity_type_name  nbr_contrat  nbr_actif  flag_churn gouvernorat  \n",
              "123203           DIRECT         53.0        1.0         1.0       Tunis  \n",
              "218532           DIRECT         53.0        0.0         1.0       Tunis  \n",
              "48321            DIRECT         40.0        2.0         0.0       Tunis  \n",
              "218533           DIRECT         40.0       12.0         0.0       Tunis  \n",
              "64993            DIRECT          2.0        0.0         1.0       Tunis  \n",
              "...                 ...          ...        ...         ...         ...  \n",
              "222462           DIRECT          1.0        2.0         0.0      Nabeul  \n",
              "43736            DIRECT          2.0        2.0         0.0   Ben Arous  \n",
              "204617           DIRECT          2.0        0.0         0.0   Ben Arous  \n",
              "64181          INDIRECT          2.0        5.0         0.0      Nabeul  \n",
              "64182          INDIRECT          2.0        1.0         0.0      Nabeul  \n",
              "\n",
              "[170 rows x 18 columns]"
            ]
          },
          "execution_count": 16,
          "metadata": {},
          "output_type": "execute_result"
        }
      ],
      "source": [
        "#check what co_id having multiple activation_date\n",
        "pd.concat(g for _, g in jul_22.groupby(\"co_id\") if len(g) > 1)"
      ]
    },
    {
      "cell_type": "code",
      "execution_count": 17,
      "id": "dU8kqurDTUAR",
      "metadata": {
        "colab": {
          "base_uri": "https://localhost:8080/",
          "height": 310
        },
        "id": "dU8kqurDTUAR",
        "outputId": "c45d7101-91a9-4ec8-aaa6-5524ad0f5d39"
      },
      "outputs": [
        {
          "output_type": "stream",
          "name": "stderr",
          "text": [
            "<ipython-input-17-09151cb09d34>:12: FutureWarning: 'S' is deprecated and will be removed in a future version, please use 's' instead.\n",
            "  time_range = pd.timedelta_range(start='00:00:00', end='23:59:59', freq='S')\n"
          ]
        },
        {
          "output_type": "execute_result",
          "data": {
            "text/plain": [
              "date      time 2022-07-01 2022-07-02 2022-07-03 2022-07-04 2022-07-05  \\\n",
              "0     00:00:00        NaN        NaN        NaN        NaN        NaN   \n",
              "1     00:00:01        NaN        NaN        NaN        NaN        NaN   \n",
              "2     00:00:02        NaN        NaN        NaN        NaN        NaN   \n",
              "3     00:00:03        NaN        NaN        NaN        NaN        NaN   \n",
              "4     00:00:04        NaN        NaN        NaN        NaN        NaN   \n",
              "\n",
              "date 2022-07-06 2022-07-07 2022-07-08 2022-07-09  ... 2022-07-22 2022-07-23  \\\n",
              "0           NaN        NaN        NaN        NaN  ...        NaN        NaN   \n",
              "1           NaN        NaN        NaN        NaN  ...        NaN        NaN   \n",
              "2           NaN        NaN        NaN        NaN  ...        NaN        NaN   \n",
              "3           NaN        NaN        NaN        NaN  ...        NaN        NaN   \n",
              "4           NaN        NaN        NaN        NaN  ...        NaN        NaN   \n",
              "\n",
              "date 2022-07-24 2022-07-25 2022-07-26 2022-07-27 2022-07-28 2022-07-29  \\\n",
              "0           NaN        NaN        NaN        NaN        NaN        NaN   \n",
              "1           NaN        NaN        NaN        NaN        NaN        NaN   \n",
              "2           NaN        NaN        NaN        NaN        NaN        NaN   \n",
              "3           NaN        NaN        NaN        NaN        NaN        NaN   \n",
              "4           NaN        NaN        NaN        NaN        NaN        NaN   \n",
              "\n",
              "date 2022-07-30 2022-07-31  \n",
              "0           NaN        NaN  \n",
              "1           NaN        NaN  \n",
              "2           NaN        NaN  \n",
              "3           NaN        NaN  \n",
              "4           NaN        NaN  \n",
              "\n",
              "[5 rows x 32 columns]"
            ],
            "text/html": [
              "\n",
              "  <div id=\"df-52676d8d-0e5e-40b7-8fee-e3449581a2ef\" class=\"colab-df-container\">\n",
              "    <div>\n",
              "<style scoped>\n",
              "    .dataframe tbody tr th:only-of-type {\n",
              "        vertical-align: middle;\n",
              "    }\n",
              "\n",
              "    .dataframe tbody tr th {\n",
              "        vertical-align: top;\n",
              "    }\n",
              "\n",
              "    .dataframe thead th {\n",
              "        text-align: right;\n",
              "    }\n",
              "</style>\n",
              "<table border=\"1\" class=\"dataframe\">\n",
              "  <thead>\n",
              "    <tr style=\"text-align: right;\">\n",
              "      <th>date</th>\n",
              "      <th>time</th>\n",
              "      <th>2022-07-01</th>\n",
              "      <th>2022-07-02</th>\n",
              "      <th>2022-07-03</th>\n",
              "      <th>2022-07-04</th>\n",
              "      <th>2022-07-05</th>\n",
              "      <th>2022-07-06</th>\n",
              "      <th>2022-07-07</th>\n",
              "      <th>2022-07-08</th>\n",
              "      <th>2022-07-09</th>\n",
              "      <th>...</th>\n",
              "      <th>2022-07-22</th>\n",
              "      <th>2022-07-23</th>\n",
              "      <th>2022-07-24</th>\n",
              "      <th>2022-07-25</th>\n",
              "      <th>2022-07-26</th>\n",
              "      <th>2022-07-27</th>\n",
              "      <th>2022-07-28</th>\n",
              "      <th>2022-07-29</th>\n",
              "      <th>2022-07-30</th>\n",
              "      <th>2022-07-31</th>\n",
              "    </tr>\n",
              "  </thead>\n",
              "  <tbody>\n",
              "    <tr>\n",
              "      <th>0</th>\n",
              "      <td>00:00:00</td>\n",
              "      <td>NaN</td>\n",
              "      <td>NaN</td>\n",
              "      <td>NaN</td>\n",
              "      <td>NaN</td>\n",
              "      <td>NaN</td>\n",
              "      <td>NaN</td>\n",
              "      <td>NaN</td>\n",
              "      <td>NaN</td>\n",
              "      <td>NaN</td>\n",
              "      <td>...</td>\n",
              "      <td>NaN</td>\n",
              "      <td>NaN</td>\n",
              "      <td>NaN</td>\n",
              "      <td>NaN</td>\n",
              "      <td>NaN</td>\n",
              "      <td>NaN</td>\n",
              "      <td>NaN</td>\n",
              "      <td>NaN</td>\n",
              "      <td>NaN</td>\n",
              "      <td>NaN</td>\n",
              "    </tr>\n",
              "    <tr>\n",
              "      <th>1</th>\n",
              "      <td>00:00:01</td>\n",
              "      <td>NaN</td>\n",
              "      <td>NaN</td>\n",
              "      <td>NaN</td>\n",
              "      <td>NaN</td>\n",
              "      <td>NaN</td>\n",
              "      <td>NaN</td>\n",
              "      <td>NaN</td>\n",
              "      <td>NaN</td>\n",
              "      <td>NaN</td>\n",
              "      <td>...</td>\n",
              "      <td>NaN</td>\n",
              "      <td>NaN</td>\n",
              "      <td>NaN</td>\n",
              "      <td>NaN</td>\n",
              "      <td>NaN</td>\n",
              "      <td>NaN</td>\n",
              "      <td>NaN</td>\n",
              "      <td>NaN</td>\n",
              "      <td>NaN</td>\n",
              "      <td>NaN</td>\n",
              "    </tr>\n",
              "    <tr>\n",
              "      <th>2</th>\n",
              "      <td>00:00:02</td>\n",
              "      <td>NaN</td>\n",
              "      <td>NaN</td>\n",
              "      <td>NaN</td>\n",
              "      <td>NaN</td>\n",
              "      <td>NaN</td>\n",
              "      <td>NaN</td>\n",
              "      <td>NaN</td>\n",
              "      <td>NaN</td>\n",
              "      <td>NaN</td>\n",
              "      <td>...</td>\n",
              "      <td>NaN</td>\n",
              "      <td>NaN</td>\n",
              "      <td>NaN</td>\n",
              "      <td>NaN</td>\n",
              "      <td>NaN</td>\n",
              "      <td>NaN</td>\n",
              "      <td>NaN</td>\n",
              "      <td>NaN</td>\n",
              "      <td>NaN</td>\n",
              "      <td>NaN</td>\n",
              "    </tr>\n",
              "    <tr>\n",
              "      <th>3</th>\n",
              "      <td>00:00:03</td>\n",
              "      <td>NaN</td>\n",
              "      <td>NaN</td>\n",
              "      <td>NaN</td>\n",
              "      <td>NaN</td>\n",
              "      <td>NaN</td>\n",
              "      <td>NaN</td>\n",
              "      <td>NaN</td>\n",
              "      <td>NaN</td>\n",
              "      <td>NaN</td>\n",
              "      <td>...</td>\n",
              "      <td>NaN</td>\n",
              "      <td>NaN</td>\n",
              "      <td>NaN</td>\n",
              "      <td>NaN</td>\n",
              "      <td>NaN</td>\n",
              "      <td>NaN</td>\n",
              "      <td>NaN</td>\n",
              "      <td>NaN</td>\n",
              "      <td>NaN</td>\n",
              "      <td>NaN</td>\n",
              "    </tr>\n",
              "    <tr>\n",
              "      <th>4</th>\n",
              "      <td>00:00:04</td>\n",
              "      <td>NaN</td>\n",
              "      <td>NaN</td>\n",
              "      <td>NaN</td>\n",
              "      <td>NaN</td>\n",
              "      <td>NaN</td>\n",
              "      <td>NaN</td>\n",
              "      <td>NaN</td>\n",
              "      <td>NaN</td>\n",
              "      <td>NaN</td>\n",
              "      <td>...</td>\n",
              "      <td>NaN</td>\n",
              "      <td>NaN</td>\n",
              "      <td>NaN</td>\n",
              "      <td>NaN</td>\n",
              "      <td>NaN</td>\n",
              "      <td>NaN</td>\n",
              "      <td>NaN</td>\n",
              "      <td>NaN</td>\n",
              "      <td>NaN</td>\n",
              "      <td>NaN</td>\n",
              "    </tr>\n",
              "  </tbody>\n",
              "</table>\n",
              "<p>5 rows × 32 columns</p>\n",
              "</div>\n",
              "    <div class=\"colab-df-buttons\">\n",
              "\n",
              "  <div class=\"colab-df-container\">\n",
              "    <button class=\"colab-df-convert\" onclick=\"convertToInteractive('df-52676d8d-0e5e-40b7-8fee-e3449581a2ef')\"\n",
              "            title=\"Convert this dataframe to an interactive table.\"\n",
              "            style=\"display:none;\">\n",
              "\n",
              "  <svg xmlns=\"http://www.w3.org/2000/svg\" height=\"24px\" viewBox=\"0 -960 960 960\">\n",
              "    <path d=\"M120-120v-720h720v720H120Zm60-500h600v-160H180v160Zm220 220h160v-160H400v160Zm0 220h160v-160H400v160ZM180-400h160v-160H180v160Zm440 0h160v-160H620v160ZM180-180h160v-160H180v160Zm440 0h160v-160H620v160Z\"/>\n",
              "  </svg>\n",
              "    </button>\n",
              "\n",
              "  <style>\n",
              "    .colab-df-container {\n",
              "      display:flex;\n",
              "      gap: 12px;\n",
              "    }\n",
              "\n",
              "    .colab-df-convert {\n",
              "      background-color: #E8F0FE;\n",
              "      border: none;\n",
              "      border-radius: 50%;\n",
              "      cursor: pointer;\n",
              "      display: none;\n",
              "      fill: #1967D2;\n",
              "      height: 32px;\n",
              "      padding: 0 0 0 0;\n",
              "      width: 32px;\n",
              "    }\n",
              "\n",
              "    .colab-df-convert:hover {\n",
              "      background-color: #E2EBFA;\n",
              "      box-shadow: 0px 1px 2px rgba(60, 64, 67, 0.3), 0px 1px 3px 1px rgba(60, 64, 67, 0.15);\n",
              "      fill: #174EA6;\n",
              "    }\n",
              "\n",
              "    .colab-df-buttons div {\n",
              "      margin-bottom: 4px;\n",
              "    }\n",
              "\n",
              "    [theme=dark] .colab-df-convert {\n",
              "      background-color: #3B4455;\n",
              "      fill: #D2E3FC;\n",
              "    }\n",
              "\n",
              "    [theme=dark] .colab-df-convert:hover {\n",
              "      background-color: #434B5C;\n",
              "      box-shadow: 0px 1px 3px 1px rgba(0, 0, 0, 0.15);\n",
              "      filter: drop-shadow(0px 1px 2px rgba(0, 0, 0, 0.3));\n",
              "      fill: #FFFFFF;\n",
              "    }\n",
              "  </style>\n",
              "\n",
              "    <script>\n",
              "      const buttonEl =\n",
              "        document.querySelector('#df-52676d8d-0e5e-40b7-8fee-e3449581a2ef button.colab-df-convert');\n",
              "      buttonEl.style.display =\n",
              "        google.colab.kernel.accessAllowed ? 'block' : 'none';\n",
              "\n",
              "      async function convertToInteractive(key) {\n",
              "        const element = document.querySelector('#df-52676d8d-0e5e-40b7-8fee-e3449581a2ef');\n",
              "        const dataTable =\n",
              "          await google.colab.kernel.invokeFunction('convertToInteractive',\n",
              "                                                    [key], {});\n",
              "        if (!dataTable) return;\n",
              "\n",
              "        const docLinkHtml = 'Like what you see? Visit the ' +\n",
              "          '<a target=\"_blank\" href=https://colab.research.google.com/notebooks/data_table.ipynb>data table notebook</a>'\n",
              "          + ' to learn more about interactive tables.';\n",
              "        element.innerHTML = '';\n",
              "        dataTable['output_type'] = 'display_data';\n",
              "        await google.colab.output.renderOutput(dataTable, element);\n",
              "        const docLink = document.createElement('div');\n",
              "        docLink.innerHTML = docLinkHtml;\n",
              "        element.appendChild(docLink);\n",
              "      }\n",
              "    </script>\n",
              "  </div>\n",
              "\n",
              "\n",
              "<div id=\"df-2d4c57b3-8758-4c22-aa72-3471c14050a1\">\n",
              "  <button class=\"colab-df-quickchart\" onclick=\"quickchart('df-2d4c57b3-8758-4c22-aa72-3471c14050a1')\"\n",
              "            title=\"Suggest charts\"\n",
              "            style=\"display:none;\">\n",
              "\n",
              "<svg xmlns=\"http://www.w3.org/2000/svg\" height=\"24px\"viewBox=\"0 0 24 24\"\n",
              "     width=\"24px\">\n",
              "    <g>\n",
              "        <path d=\"M19 3H5c-1.1 0-2 .9-2 2v14c0 1.1.9 2 2 2h14c1.1 0 2-.9 2-2V5c0-1.1-.9-2-2-2zM9 17H7v-7h2v7zm4 0h-2V7h2v10zm4 0h-2v-4h2v4z\"/>\n",
              "    </g>\n",
              "</svg>\n",
              "  </button>\n",
              "\n",
              "<style>\n",
              "  .colab-df-quickchart {\n",
              "      --bg-color: #E8F0FE;\n",
              "      --fill-color: #1967D2;\n",
              "      --hover-bg-color: #E2EBFA;\n",
              "      --hover-fill-color: #174EA6;\n",
              "      --disabled-fill-color: #AAA;\n",
              "      --disabled-bg-color: #DDD;\n",
              "  }\n",
              "\n",
              "  [theme=dark] .colab-df-quickchart {\n",
              "      --bg-color: #3B4455;\n",
              "      --fill-color: #D2E3FC;\n",
              "      --hover-bg-color: #434B5C;\n",
              "      --hover-fill-color: #FFFFFF;\n",
              "      --disabled-bg-color: #3B4455;\n",
              "      --disabled-fill-color: #666;\n",
              "  }\n",
              "\n",
              "  .colab-df-quickchart {\n",
              "    background-color: var(--bg-color);\n",
              "    border: none;\n",
              "    border-radius: 50%;\n",
              "    cursor: pointer;\n",
              "    display: none;\n",
              "    fill: var(--fill-color);\n",
              "    height: 32px;\n",
              "    padding: 0;\n",
              "    width: 32px;\n",
              "  }\n",
              "\n",
              "  .colab-df-quickchart:hover {\n",
              "    background-color: var(--hover-bg-color);\n",
              "    box-shadow: 0 1px 2px rgba(60, 64, 67, 0.3), 0 1px 3px 1px rgba(60, 64, 67, 0.15);\n",
              "    fill: var(--button-hover-fill-color);\n",
              "  }\n",
              "\n",
              "  .colab-df-quickchart-complete:disabled,\n",
              "  .colab-df-quickchart-complete:disabled:hover {\n",
              "    background-color: var(--disabled-bg-color);\n",
              "    fill: var(--disabled-fill-color);\n",
              "    box-shadow: none;\n",
              "  }\n",
              "\n",
              "  .colab-df-spinner {\n",
              "    border: 2px solid var(--fill-color);\n",
              "    border-color: transparent;\n",
              "    border-bottom-color: var(--fill-color);\n",
              "    animation:\n",
              "      spin 1s steps(1) infinite;\n",
              "  }\n",
              "\n",
              "  @keyframes spin {\n",
              "    0% {\n",
              "      border-color: transparent;\n",
              "      border-bottom-color: var(--fill-color);\n",
              "      border-left-color: var(--fill-color);\n",
              "    }\n",
              "    20% {\n",
              "      border-color: transparent;\n",
              "      border-left-color: var(--fill-color);\n",
              "      border-top-color: var(--fill-color);\n",
              "    }\n",
              "    30% {\n",
              "      border-color: transparent;\n",
              "      border-left-color: var(--fill-color);\n",
              "      border-top-color: var(--fill-color);\n",
              "      border-right-color: var(--fill-color);\n",
              "    }\n",
              "    40% {\n",
              "      border-color: transparent;\n",
              "      border-right-color: var(--fill-color);\n",
              "      border-top-color: var(--fill-color);\n",
              "    }\n",
              "    60% {\n",
              "      border-color: transparent;\n",
              "      border-right-color: var(--fill-color);\n",
              "    }\n",
              "    80% {\n",
              "      border-color: transparent;\n",
              "      border-right-color: var(--fill-color);\n",
              "      border-bottom-color: var(--fill-color);\n",
              "    }\n",
              "    90% {\n",
              "      border-color: transparent;\n",
              "      border-bottom-color: var(--fill-color);\n",
              "    }\n",
              "  }\n",
              "</style>\n",
              "\n",
              "  <script>\n",
              "    async function quickchart(key) {\n",
              "      const quickchartButtonEl =\n",
              "        document.querySelector('#' + key + ' button');\n",
              "      quickchartButtonEl.disabled = true;  // To prevent multiple clicks.\n",
              "      quickchartButtonEl.classList.add('colab-df-spinner');\n",
              "      try {\n",
              "        const charts = await google.colab.kernel.invokeFunction(\n",
              "            'suggestCharts', [key], {});\n",
              "      } catch (error) {\n",
              "        console.error('Error during call to suggestCharts:', error);\n",
              "      }\n",
              "      quickchartButtonEl.classList.remove('colab-df-spinner');\n",
              "      quickchartButtonEl.classList.add('colab-df-quickchart-complete');\n",
              "    }\n",
              "    (() => {\n",
              "      let quickchartButtonEl =\n",
              "        document.querySelector('#df-2d4c57b3-8758-4c22-aa72-3471c14050a1 button');\n",
              "      quickchartButtonEl.style.display =\n",
              "        google.colab.kernel.accessAllowed ? 'block' : 'none';\n",
              "    })();\n",
              "  </script>\n",
              "</div>\n",
              "\n",
              "    </div>\n",
              "  </div>\n"
            ],
            "application/vnd.google.colaboratory.intrinsic+json": {
              "type": "dataframe",
              "variable_name": "reshaped_data"
            }
          },
          "metadata": {},
          "execution_count": 17
        }
      ],
      "source": [
        "# Ensure activation_date is in datetime format\n",
        "df = jul_22.copy()\n",
        "df['activation_date'] = pd.to_datetime(df['activation_date'], format='%Y-%m-%d %H:%M:%S')\n",
        "\n",
        "# Extract the time part for the index (hour:minute:second)\n",
        "df['time'] = df['activation_date'].dt.strftime('%H:%M:%S')  # Format as HH:MM:SS\n",
        "\n",
        "# Extract the date part for the columns (major intervals)\n",
        "df['date'] = df['activation_date'].dt.date  # Extract date object\n",
        "\n",
        "# Create a custom time range to cover the full 24-hour cycle\n",
        "time_range = pd.timedelta_range(start='00:00:00', end='23:59:59', freq='S')\n",
        "\n",
        "# Pivot the data: Index will be custom time range, and columns will be days\n",
        "reshaped_data = df.pivot_table(\n",
        "    index='time',  # Time will be the index\n",
        "    columns='date',  # Days will be the columns\n",
        "    values='total_nb_recharge'  # Numerical columns for aggregation\n",
        "     # Aggregation function (you can change this)\n",
        ").reindex(index=[pd.to_datetime(t.total_seconds(), unit='s').strftime('%H:%M:%S') for t in time_range],\n",
        "          fill_value=\"NaN\")\n",
        "\n",
        "\n",
        "# Reset the index if you want to display the time column as normal\n",
        "reshaped_data = reshaped_data.reset_index()\n",
        "\n",
        "# Display the reshaped data\n",
        "reshaped_data.head()"
      ]
    },
    {
      "cell_type": "markdown",
      "id": "Rv67HmXZ99LQ",
      "metadata": {
        "id": "Rv67HmXZ99LQ"
      },
      "source": [
        "#### Daily max values"
      ]
    },
    {
      "cell_type": "code",
      "execution_count": 18,
      "id": "qA36tRZa4cWM",
      "metadata": {
        "colab": {
          "base_uri": "https://localhost:8080/",
          "height": 397
        },
        "id": "qA36tRZa4cWM",
        "outputId": "bf3d0329-11ba-4f19-9f92-336cd484f650"
      },
      "outputs": [
        {
          "output_type": "display_data",
          "data": {
            "text/plain": [
              "<Figure size 1800x600 with 1 Axes>"
            ],
            "image/png": "[encoded data removed]"
          },
          "metadata": {}
        }
      ],
      "source": [
        "import pandas as pd\n",
        "import matplotlib.pyplot as plt\n",
        "\n",
        "# Convert 'time' column to datetime objects\n",
        "reshaped_data['time_datetime'] = pd.to_datetime(reshaped_data['time'], format='%H:%M:%S')\n",
        "\n",
        "# Convert numeric columns to numeric type, coercing errors to NaN\n",
        "for col in reshaped_data.columns:\n",
        "    if col != 'time' and col != 'time_datetime':  # Exclude non-numeric columns\n",
        "        reshaped_data[col] = pd.to_numeric(reshaped_data[col], errors='coerce')\n",
        "\n",
        "daily_max_data = reshaped_data.set_index('time_datetime').mean(axis=1)\n",
        "\n",
        "# Drop non-date columns\n",
        "daily_max_data = daily_max_data.drop(['time'], errors='ignore')  # Drop 'time' if it's still present\n",
        "\n",
        "# Convert index to datetime for plotting\n",
        "daily_max_data.index = pd.to_datetime(daily_max_data.index)\n",
        "\n",
        "# Plot the data\n",
        "fig, ax = plt.subplots(figsize=(18, 6))\n",
        "ax.plot(daily_max_data.index, daily_max_data.values, marker='o', linestyle='-', label='Daily Max total_nb_recharge')\n",
        "\n",
        "# Add plot details\n",
        "plt.xlabel('Date')\n",
        "plt.ylabel('Max total_nb_recharge')\n",
        "plt.title('Daily Maximum total_nb_recharge')\n",
        "plt.grid(True)\n",
        "plt.legend()\n",
        "plt.show()"
      ]
    },
    {
      "cell_type": "markdown",
      "source": [
        "Try to plot each column in order to understand how to fill its missing values"
      ],
      "metadata": {
        "id": "csRE3O5ybRQM"
      },
      "id": "csRE3O5ybRQM"
    },
    {
      "cell_type": "code",
      "execution_count": 36,
      "id": "QCcD_Uhu-gqz",
      "metadata": {
        "id": "QCcD_Uhu-gqz"
      },
      "outputs": [],
      "source": [
        "col='nb_cell_visite_in'"
      ]
    },
    {
      "cell_type": "markdown",
      "source": [
        "#### using Mean and Median"
      ],
      "metadata": {
        "id": "W_qvR2_zbkKV"
      },
      "id": "W_qvR2_zbkKV"
    },
    {
      "cell_type": "code",
      "source": [
        "df_median = jul_22[['activation_date', 'co_id', col]]\n",
        "\n",
        "# Convert activation_date to datetime format\n",
        "df_median['activation_date'] = pd.to_datetime(df_median['activation_date'], format='%Y-%m-%d %H:%M:%S')\n",
        "df_median[col]=df_median[col].fillna(df_median[col].median())\n",
        "# Set start and end dates\n",
        "start_date = pd.to_datetime('2022-07-01 00:00:00')\n",
        "end_date = pd.to_datetime('2022-07-30 23:59:59')\n",
        "\n",
        "# Filter data for the specified range\n",
        "zoom_range_median = df_median[(df_median['activation_date'] >= start_date) & (df_median['activation_date'] <= end_date)]\n",
        "\n",
        "# Resample data to 12-hour intervals\n",
        "resampled_data_median = zoom_range_median.resample('12H', on='activation_date').mean()"
      ],
      "metadata": {
        "colab": {
          "base_uri": "https://localhost:8080/"
        },
        "id": "SDVAOFuaewYb",
        "outputId": "1971210b-7485-4bd8-b188-ce8b78ab26dd"
      },
      "id": "SDVAOFuaewYb",
      "execution_count": 37,
      "outputs": [
        {
          "output_type": "stream",
          "name": "stderr",
          "text": [
            "<ipython-input-37-8ffa62aaa9b3>:4: SettingWithCopyWarning: \n",
            "A value is trying to be set on a copy of a slice from a DataFrame.\n",
            "Try using .loc[row_indexer,col_indexer] = value instead\n",
            "\n",
            "See the caveats in the documentation: https://pandas.pydata.org/pandas-docs/stable/user_guide/indexing.html#returning-a-view-versus-a-copy\n",
            "  df_median['activation_date'] = pd.to_datetime(df_median['activation_date'], format='%Y-%m-%d %H:%M:%S')\n",
            "<ipython-input-37-8ffa62aaa9b3>:5: SettingWithCopyWarning: \n",
            "A value is trying to be set on a copy of a slice from a DataFrame.\n",
            "Try using .loc[row_indexer,col_indexer] = value instead\n",
            "\n",
            "See the caveats in the documentation: https://pandas.pydata.org/pandas-docs/stable/user_guide/indexing.html#returning-a-view-versus-a-copy\n",
            "  df_median[col]=df_median[col].fillna(df_median[col].median())\n",
            "<ipython-input-37-8ffa62aaa9b3>:14: FutureWarning: 'H' is deprecated and will be removed in a future version, please use 'h' instead.\n",
            "  resampled_data_median = zoom_range_median.resample('12H', on='activation_date').mean()\n"
          ]
        }
      ]
    },
    {
      "cell_type": "code",
      "execution_count": 38,
      "id": "bJHAvfJJNhew",
      "metadata": {
        "colab": {
          "base_uri": "https://localhost:8080/"
        },
        "id": "bJHAvfJJNhew",
        "outputId": "38b94a5f-cbdb-41af-a0ef-49192c2288ef"
      },
      "outputs": [
        {
          "output_type": "stream",
          "name": "stderr",
          "text": [
            "<ipython-input-38-8ffd2d3ba41f>:4: SettingWithCopyWarning: \n",
            "A value is trying to be set on a copy of a slice from a DataFrame.\n",
            "Try using .loc[row_indexer,col_indexer] = value instead\n",
            "\n",
            "See the caveats in the documentation: https://pandas.pydata.org/pandas-docs/stable/user_guide/indexing.html#returning-a-view-versus-a-copy\n",
            "  df_mean['activation_date'] = pd.to_datetime(df_mean['activation_date'], format='%Y-%m-%d %H:%M:%S')\n",
            "<ipython-input-38-8ffd2d3ba41f>:5: SettingWithCopyWarning: \n",
            "A value is trying to be set on a copy of a slice from a DataFrame.\n",
            "Try using .loc[row_indexer,col_indexer] = value instead\n",
            "\n",
            "See the caveats in the documentation: https://pandas.pydata.org/pandas-docs/stable/user_guide/indexing.html#returning-a-view-versus-a-copy\n",
            "  df_mean[col]=df_mean[col].fillna(df_mean[col].mean())\n",
            "<ipython-input-38-8ffd2d3ba41f>:14: FutureWarning: 'H' is deprecated and will be removed in a future version, please use 'h' instead.\n",
            "  resampled_data_mean = zoom_range.resample('12H', on='activation_date').mean()\n"
          ]
        }
      ],
      "source": [
        "df_mean = jul_22[['activation_date', 'co_id', col]]\n",
        "\n",
        "# Convert activation_date to datetime format\n",
        "df_mean['activation_date'] = pd.to_datetime(df_mean['activation_date'], format='%Y-%m-%d %H:%M:%S')\n",
        "df_mean[col]=df_mean[col].fillna(df_mean[col].mean())\n",
        "# Set start and end dates\n",
        "start_date = pd.to_datetime('2022-07-01 00:00:00')\n",
        "end_date = pd.to_datetime('2022-07-30 23:59:59')\n",
        "\n",
        "# Filter data for the specified range\n",
        "zoom_range = df_mean[(df_mean['activation_date'] >= start_date) & (df_mean['activation_date'] <= end_date)]\n",
        "\n",
        "# Resample data to 12-hour intervals\n",
        "resampled_data_mean = zoom_range.resample('12H', on='activation_date').mean()\n"
      ]
    },
    {
      "cell_type": "markdown",
      "source": [
        "#### using Rolling Average"
      ],
      "metadata": {
        "id": "aoteEXscMc_p"
      },
      "id": "aoteEXscMc_p"
    },
    {
      "cell_type": "code",
      "execution_count": 39,
      "id": "7vAqeSxXifNd",
      "metadata": {
        "id": "7vAqeSxXifNd",
        "colab": {
          "base_uri": "https://localhost:8080/"
        },
        "outputId": "fcf485c2-9698-487c-d203-9741b3ce4d9a"
      },
      "outputs": [
        {
          "output_type": "stream",
          "name": "stderr",
          "text": [
            "<ipython-input-39-f754d7341532>:6: SettingWithCopyWarning: \n",
            "A value is trying to be set on a copy of a slice from a DataFrame.\n",
            "Try using .loc[row_indexer,col_indexer] = value instead\n",
            "\n",
            "See the caveats in the documentation: https://pandas.pydata.org/pandas-docs/stable/user_guide/indexing.html#returning-a-view-versus-a-copy\n",
            "  df_RA['activation_date'] = pd.to_datetime(df_RA['activation_date'], format='%Y-%m-%d %H:%M:%S')\n",
            "<ipython-input-39-f754d7341532>:8: FutureWarning: Series.fillna with 'method' is deprecated and will raise in a future version. Use obj.ffill() or obj.bfill() instead.\n",
            "  df_RA[col]\n",
            "<ipython-input-39-f754d7341532>:7: SettingWithCopyWarning: \n",
            "A value is trying to be set on a copy of a slice from a DataFrame.\n",
            "Try using .loc[row_indexer,col_indexer] = value instead\n",
            "\n",
            "See the caveats in the documentation: https://pandas.pydata.org/pandas-docs/stable/user_guide/indexing.html#returning-a-view-versus-a-copy\n",
            "  df_RA[col] = (\n",
            "<ipython-input-39-f754d7341532>:22: FutureWarning: 'H' is deprecated and will be removed in a future version, please use 'h' instead.\n",
            "  resampled_data_RA = zoom_range_RA.resample('12H', on='activation_date').mean()\n"
          ]
        }
      ],
      "source": [
        "#How it works: Replaces missing values with the average of a specified window of data points before and/or after the missing value. This window is often referred to as the \"rolling\" or \"moving\" window.\n",
        "#total_nb_recharge, total_rechage, or total_u_data\n",
        "df_RA = jul_22[['activation_date', 'co_id', col]]\n",
        "\n",
        "# Convert activation_date to datetime format\n",
        "df_RA['activation_date'] = pd.to_datetime(df_RA['activation_date'], format='%Y-%m-%d %H:%M:%S')\n",
        "df_RA[col] = (\n",
        "    df_RA[col]\n",
        "    .rolling(window=5, center=True, min_periods=1)  # Rolling window with center and minimum periods\n",
        "    .mean()\n",
        "    .fillna(method='bfill')  # Handling edge cases with backfill\n",
        "    .fillna(method='ffill')  # Handling edge cases with forward fill\n",
        ")\n",
        "# Set start and end dates\n",
        "start_date = pd.to_datetime('2022-07-01 00:00:00')\n",
        "end_date = pd.to_datetime('2022-07-30 23:59:59')\n",
        "\n",
        "# Filter data for the specified range\n",
        "zoom_range_RA = df_RA[(df_RA['activation_date'] >= start_date) & (df_RA['activation_date'] <= end_date)]\n",
        "\n",
        "# Resample data to 12-hour intervals\n",
        "resampled_data_RA = zoom_range_RA.resample('12H', on='activation_date').mean()"
      ]
    },
    {
      "cell_type": "markdown",
      "id": "pBPTJMnPxzdW",
      "metadata": {
        "id": "pBPTJMnPxzdW"
      },
      "source": [
        "#### using Interpolation"
      ]
    },
    {
      "cell_type": "code",
      "execution_count": 40,
      "id": "sFZWfnPBBfQL",
      "metadata": {
        "colab": {
          "base_uri": "https://localhost:8080/"
        },
        "id": "sFZWfnPBBfQL",
        "outputId": "869e193b-023b-4632-aca2-a04193edcfe4"
      },
      "outputs": [
        {
          "output_type": "stream",
          "name": "stderr",
          "text": [
            "<ipython-input-40-a79661609ae5>:4: SettingWithCopyWarning: \n",
            "A value is trying to be set on a copy of a slice from a DataFrame.\n",
            "Try using .loc[row_indexer,col_indexer] = value instead\n",
            "\n",
            "See the caveats in the documentation: https://pandas.pydata.org/pandas-docs/stable/user_guide/indexing.html#returning-a-view-versus-a-copy\n",
            "  df_interpolate['activation_date'] = pd.to_datetime(df_interpolate['activation_date'], format='%Y-%m-%d %H:%M:%S')\n",
            "<ipython-input-40-a79661609ae5>:5: SettingWithCopyWarning: \n",
            "A value is trying to be set on a copy of a slice from a DataFrame.\n",
            "Try using .loc[row_indexer,col_indexer] = value instead\n",
            "\n",
            "See the caveats in the documentation: https://pandas.pydata.org/pandas-docs/stable/user_guide/indexing.html#returning-a-view-versus-a-copy\n",
            "  df_interpolate[col]=df_interpolate[col].interpolate(method=\"linear\")\n",
            "<ipython-input-40-a79661609ae5>:14: FutureWarning: 'H' is deprecated and will be removed in a future version, please use 'h' instead.\n",
            "  resampled_data_interpolate = zoom_range_interpolate.resample('12H', on='activation_date').mean()\n"
          ]
        }
      ],
      "source": [
        "df_interpolate = jul_22[['activation_date', 'co_id', col]]\n",
        "\n",
        "# Convert activation_date to datetime format\n",
        "df_interpolate['activation_date'] = pd.to_datetime(df_interpolate['activation_date'], format='%Y-%m-%d %H:%M:%S')\n",
        "df_interpolate[col]=df_interpolate[col].interpolate(method=\"linear\")\n",
        "# Set start and end dates\n",
        "start_date = pd.to_datetime('2022-07-01 00:00:00')\n",
        "end_date = pd.to_datetime('2022-07-30 23:59:59')\n",
        "\n",
        "# Filter data for the specified range\n",
        "zoom_range_interpolate = df_interpolate[(df_interpolate['activation_date'] >= start_date) & (df_interpolate['activation_date'] <= end_date)]\n",
        "\n",
        "# Resample data to 12-hour intervals\n",
        "resampled_data_interpolate = zoom_range_interpolate.resample('12H', on='activation_date').mean()"
      ]
    },
    {
      "cell_type": "code",
      "source": [
        "df_interpolate_poly = jul_22[['activation_date', 'co_id', col]]\n",
        "\n",
        "# Convert activation_date to datetime format\n",
        "df_interpolate_poly['activation_date'] = pd.to_datetime(df_interpolate_poly['activation_date'], format='%Y-%m-%d %H:%M:%S')\n",
        "df_interpolate_poly[col]=df_interpolate_poly[col].interpolate(method=\"polynomial\",order=3)\n",
        "# Set start and end dates\n",
        "start_date = pd.to_datetime('2022-07-01 00:00:00')\n",
        "end_date = pd.to_datetime('2022-07-30 23:59:59')\n",
        "\n",
        "# Filter data for the specified range\n",
        "zoom_range_interpolate = df_interpolate_poly[(df_interpolate_poly['activation_date'] >= start_date) & (df_interpolate_poly['activation_date'] <= end_date)]\n",
        "\n",
        "# Resample data to 12-hour intervals\n",
        "resampled_data_interpolate_poly = zoom_range_interpolate.resample('12H', on='activation_date').mean()"
      ],
      "metadata": {
        "colab": {
          "base_uri": "https://localhost:8080/"
        },
        "id": "QvmmAMq0Ampm",
        "outputId": "da05590d-0cc3-4b79-9bb2-36898d3ba2eb"
      },
      "id": "QvmmAMq0Ampm",
      "execution_count": 41,
      "outputs": [
        {
          "output_type": "stream",
          "name": "stderr",
          "text": [
            "<ipython-input-41-683f3409a6e4>:4: SettingWithCopyWarning: \n",
            "A value is trying to be set on a copy of a slice from a DataFrame.\n",
            "Try using .loc[row_indexer,col_indexer] = value instead\n",
            "\n",
            "See the caveats in the documentation: https://pandas.pydata.org/pandas-docs/stable/user_guide/indexing.html#returning-a-view-versus-a-copy\n",
            "  df_interpolate_poly['activation_date'] = pd.to_datetime(df_interpolate_poly['activation_date'], format='%Y-%m-%d %H:%M:%S')\n",
            "<ipython-input-41-683f3409a6e4>:5: SettingWithCopyWarning: \n",
            "A value is trying to be set on a copy of a slice from a DataFrame.\n",
            "Try using .loc[row_indexer,col_indexer] = value instead\n",
            "\n",
            "See the caveats in the documentation: https://pandas.pydata.org/pandas-docs/stable/user_guide/indexing.html#returning-a-view-versus-a-copy\n",
            "  df_interpolate_poly[col]=df_interpolate_poly[col].interpolate(method=\"polynomial\",order=3)\n",
            "<ipython-input-41-683f3409a6e4>:14: FutureWarning: 'H' is deprecated and will be removed in a future version, please use 'h' instead.\n",
            "  resampled_data_interpolate_poly = zoom_range_interpolate.resample('12H', on='activation_date').mean()\n"
          ]
        }
      ]
    },
    {
      "cell_type": "code",
      "source": [
        "jul = jul_22[['activation_date', 'co_id', col]]\n",
        "\n",
        "# Convert activation_date to datetime format\n",
        "jul['activation_date'] = pd.to_datetime(jul['activation_date'], format='%Y-%m-%d %H:%M:%S')\n",
        "jul[col]=jul[col]\n",
        "# Set start and end dates\n",
        "start_date = pd.to_datetime('2022-07-01 00:00:00')\n",
        "end_date = pd.to_datetime('2022-07-30 23:59:59')\n",
        "\n",
        "# Filter data for the specified range\n",
        "zoom_range = jul[(jul['activation_date'] >= start_date) & (jul['activation_date'] <= end_date)]\n",
        "\n",
        "# Resample data to 12-hour intervals\n",
        "resampled_data_normal = zoom_range.resample('12H', on='activation_date').mean()"
      ],
      "metadata": {
        "colab": {
          "base_uri": "https://localhost:8080/"
        },
        "id": "Kc9FRUN_5z36",
        "outputId": "44a0ef48-00cb-4d19-9404-48a0b261eedb"
      },
      "id": "Kc9FRUN_5z36",
      "execution_count": 42,
      "outputs": [
        {
          "output_type": "stream",
          "name": "stderr",
          "text": [
            "<ipython-input-42-ee76f0ed78f7>:4: SettingWithCopyWarning: \n",
            "A value is trying to be set on a copy of a slice from a DataFrame.\n",
            "Try using .loc[row_indexer,col_indexer] = value instead\n",
            "\n",
            "See the caveats in the documentation: https://pandas.pydata.org/pandas-docs/stable/user_guide/indexing.html#returning-a-view-versus-a-copy\n",
            "  jul['activation_date'] = pd.to_datetime(jul['activation_date'], format='%Y-%m-%d %H:%M:%S')\n",
            "<ipython-input-42-ee76f0ed78f7>:5: SettingWithCopyWarning: \n",
            "A value is trying to be set on a copy of a slice from a DataFrame.\n",
            "Try using .loc[row_indexer,col_indexer] = value instead\n",
            "\n",
            "See the caveats in the documentation: https://pandas.pydata.org/pandas-docs/stable/user_guide/indexing.html#returning-a-view-versus-a-copy\n",
            "  jul[col]=jul[col]\n",
            "<ipython-input-42-ee76f0ed78f7>:14: FutureWarning: 'H' is deprecated and will be removed in a future version, please use 'h' instead.\n",
            "  resampled_data_normal = zoom_range.resample('12H', on='activation_date').mean()\n"
          ]
        }
      ]
    },
    {
      "cell_type": "markdown",
      "source": [
        "#### using bfill"
      ],
      "metadata": {
        "id": "MG2ju1O2b30e"
      },
      "id": "MG2ju1O2b30e"
    },
    {
      "cell_type": "code",
      "execution_count": 43,
      "id": "CVEfvf4ClZyE",
      "metadata": {
        "colab": {
          "base_uri": "https://localhost:8080/",
          "height": 719
        },
        "id": "CVEfvf4ClZyE",
        "outputId": "b9396b3d-9aa8-4247-8b8a-2582a47faa89"
      },
      "outputs": [
        {
          "output_type": "stream",
          "name": "stderr",
          "text": [
            "<ipython-input-43-e56399d0cd78>:4: SettingWithCopyWarning: \n",
            "A value is trying to be set on a copy of a slice from a DataFrame.\n",
            "Try using .loc[row_indexer,col_indexer] = value instead\n",
            "\n",
            "See the caveats in the documentation: https://pandas.pydata.org/pandas-docs/stable/user_guide/indexing.html#returning-a-view-versus-a-copy\n",
            "  df['activation_date'] = pd.to_datetime(df['activation_date'], format='%Y-%m-%d %H:%M:%S')\n",
            "<ipython-input-43-e56399d0cd78>:5: FutureWarning: Series.fillna with 'method' is deprecated and will raise in a future version. Use obj.ffill() or obj.bfill() instead.\n",
            "  df[col]=df[col].fillna(method=\"bfill\")\n",
            "<ipython-input-43-e56399d0cd78>:5: SettingWithCopyWarning: \n",
            "A value is trying to be set on a copy of a slice from a DataFrame.\n",
            "Try using .loc[row_indexer,col_indexer] = value instead\n",
            "\n",
            "See the caveats in the documentation: https://pandas.pydata.org/pandas-docs/stable/user_guide/indexing.html#returning-a-view-versus-a-copy\n",
            "  df[col]=df[col].fillna(method=\"bfill\")\n",
            "<ipython-input-43-e56399d0cd78>:14: FutureWarning: 'H' is deprecated and will be removed in a future version, please use 'h' instead.\n",
            "  resampled_data = zoom_range.resample('12H', on='activation_date').mean()\n"
          ]
        },
        {
          "output_type": "display_data",
          "data": {
            "text/plain": [
              "<Figure size 1800x600 with 1 Axes>"
            ],
            "image/png": "[encoded data removed]"
          },
          "metadata": {}
        }
      ],
      "source": [
        "df = jul_22[['activation_date', 'co_id', col]]\n",
        "\n",
        "# Convert activation_date to datetime format\n",
        "df['activation_date'] = pd.to_datetime(df['activation_date'], format='%Y-%m-%d %H:%M:%S')\n",
        "df[col]=df[col].fillna(method=\"bfill\")\n",
        "# Set start and end dates\n",
        "start_date = pd.to_datetime('2022-07-01 00:00:00')\n",
        "end_date = pd.to_datetime('2022-07-30 23:59:59')\n",
        "\n",
        "# Filter data for the specified range\n",
        "zoom_range = df[(df['activation_date'] >= start_date) & (df['activation_date'] <= end_date)]\n",
        "\n",
        "# Resample data to 12-hour intervals\n",
        "resampled_data = zoom_range.resample('12H', on='activation_date').mean()\n",
        "\n",
        "# Plot the data\n",
        "fig, ax = plt.subplots(figsize=(18, 6))\n",
        "ax.plot(resampled_data_mean.index, resampled_data_mean[col], marker='o', linestyle='-', label=\"mean\")\n",
        "ax.plot(resampled_data_median.index, resampled_data_median[col], marker='o', linestyle='-', label=\"median\")\n",
        "ax.plot(resampled_data.index, resampled_data[col], marker='o', linestyle='-', label=\"back Filled\")\n",
        "ax.plot(resampled_data_interpolate.index, resampled_data_interpolate[col], marker='o', linestyle='-', label=\"Interpolate_linear\")\n",
        "#ax.plot(resampled_data_RA.index, resampled_data_RA[col], marker='o', linestyle='-', label=\"Rolling Average\")\n",
        "ax.plot(resampled_data_normal.index, resampled_data_normal[col], marker='o', linestyle='-', label=\"original\")\n",
        "#ax.plot(resampled_data_interpolate_poly.index, resampled_data_interpolate_poly[col], marker='o', linestyle='-', label=\"polynomial\")\n",
        "\n",
        "plt.xlabel('Date (12-hour intervals)')\n",
        "plt.ylabel(f'{col}')\n",
        "plt.title(f'{col} by 12-hour intervals')\n",
        "plt.legend()\n",
        "plt.grid(True)\n",
        "plt.show()"
      ]
    },
    {
      "cell_type": "code",
      "source": [
        "#function to drop the row where missing values count doesnt exceed 5\n",
        "def drop_columns_less_than_5(data):\n",
        "    for df in data:\n",
        "      for col in df:\n",
        "          if df[col].isna().sum() < 5:\n",
        "              #drop the rows containing nan values for that columns\n",
        "              df.dropna(subset=[col], inplace=True)\n",
        "drop_columns_less_than_5(dfs)"
      ],
      "metadata": {
        "id": "2MxWIG84B6zY"
      },
      "id": "2MxWIG84B6zY",
      "execution_count": 46,
      "outputs": []
    },
    {
      "cell_type": "code",
      "execution_count": 44,
      "id": "QYugQp-VdWw8",
      "metadata": {
        "colab": {
          "base_uri": "https://localhost:8080/"
        },
        "id": "QYugQp-VdWw8",
        "outputId": "0163e17c-c879-4a33-bd98-0d7299b5a0f2"
      },
      "outputs": [
        {
          "output_type": "stream",
          "name": "stderr",
          "text": [
            "<ipython-input-44-f264892d40fa>:2: FutureWarning: Series.fillna with 'method' is deprecated and will raise in a future version. Use obj.ffill() or obj.bfill() instead.\n",
            "  jul_22['nbr_actif']=jul_22['nbr_actif'].fillna(method=\"bfill\")\n",
            "<ipython-input-44-f264892d40fa>:3: FutureWarning: Series.fillna with 'method' is deprecated and will raise in a future version. Use obj.ffill() or obj.bfill() instead.\n",
            "  jul_22['flag_churn']=jul_22['flag_churn'].fillna(method=\"bfill\")\n",
            "<ipython-input-44-f264892d40fa>:4: FutureWarning: Series.fillna with 'method' is deprecated and will raise in a future version. Use obj.ffill() or obj.bfill() instead.\n",
            "  jul_22['nbr_contrat']=jul_22['nbr_contrat'].fillna(method=\"bfill\")\n"
          ]
        }
      ],
      "source": [
        "#use bfill for nbr_actif, flag_churn, and nbr_contrat\n",
        "for df in dfs:\n",
        "  df['nbr_actif']=df['nbr_actif'].fillna(method=\"bfill\")\n",
        "  df['flag_churn']=df['flag_churn'].fillna(method=\"bfill\")\n",
        "  df['nbr_contrat']=df['nbr_contrat'].fillna(method=\"bfill\")"
      ]
    },
    {
      "cell_type": "code",
      "source": [
        "for df in dfs :\n",
        "  #fill with mean\n",
        "  df['total_nb_recharge']=df['total_nb_recharge'].fillna(df['total_nb_recharge'].mean())\n",
        "  df['total_u_data']=df['total_u_data'].fillna(df['total_u_data'].mean())\n",
        "  df['total_u_out']=df['total_u_out'].fillna(df['total_u_out'].mean())\n",
        "  #fill with median\n",
        "  df['total_u_in']=df['total_u_in'].fillna(df['total_u_in'].median())\n",
        "  #fill with Linear Inter\n",
        "  df['total_rev_option']=df['total_rev_option'].interpolate(method='linear')\n",
        "  df['nb_cont_out']=df['nb_cont_out'].interpolate(method='linear')\n",
        "  df['nb_cont_in']=df['nb_cont_in'].interpolate(method='linear')\n",
        "  df['nb_cell_visite_out']=df['nb_cell_visite_out'].interpolate(method='linear')\n",
        "  #fill with polynomial\n",
        "  df['total_rechage']=df['total_rechage'].interpolate(method='polynomial', order=5)\n",
        "  df['usage_op3']=df['usage_op3'].interpolate(method='polynomial', order=3)\n",
        "  #fill with bfill\n",
        "  df['nb_cell_visite_in']=df['nb_cell_visite_in'].fillna(method='bfill')"
      ],
      "metadata": {
        "id": "wwzkH-cSXP8l"
      },
      "id": "wwzkH-cSXP8l",
      "execution_count": null,
      "outputs": []
    },
    {
      "cell_type": "markdown",
      "id": "HLBKRIbY9pTf",
      "metadata": {
        "id": "HLBKRIbY9pTf"
      },
      "source": [
        "### Label Encoding\n"
      ]
    },
    {
      "cell_type": "code",
      "source": [
        "#Label encode entity_type_name\n",
        "from sklearn.preprocessing import LabelEncoder\n",
        "le = LabelEncoder()\n",
        "for df in dfs:\n",
        "    df['entity_type_name'] = le.fit_transform(df['entity_type_name'])"
      ],
      "metadata": {
        "id": "G-Ctdf2UYpcG"
      },
      "id": "G-Ctdf2UYpcG",
      "execution_count": null,
      "outputs": []
    },
    {
      "cell_type": "code",
      "source": [
        "#Label encode gouvernorat\n",
        "from sklearn.preprocessing import LabelEncoder\n",
        "le = LabelEncoder()\n",
        "for df in dfs:\n",
        "    df['gouvernorat'] = le.fit_transform(df['gouvernorat'])"
      ],
      "metadata": {
        "id": "AnImGGXsYx0U"
      },
      "id": "AnImGGXsYx0U",
      "execution_count": null,
      "outputs": []
    },
    {
      "cell_type": "markdown",
      "source": [
        "Note : data is ready for scaling and Analysis ,PCA, clustering and Interpretations"
      ],
      "metadata": {
        "id": "nP1bLzSycKgw"
      },
      "id": "nP1bLzSycKgw"
    }
  ],
  "metadata": {
    "colab": {
      "provenance": [],
      "toc_visible": true,
      "gpuType": "T4"
    },
    "kernelspec": {
      "display_name": "Python 3",
      "name": "python3"
    },
    "language_info": {
      "codemirror_mode": {
        "name": "ipython",
        "version": 3
      },
      "file_extension": ".py",
      "mimetype": "text/x-python",
      "name": "python",
      "nbconvert_exporter": "python",
      "pygments_lexer": "ipython3",
      "version": "3.13.0"
    },
    "accelerator": "GPU"
  },
  "nbformat": 4,
  "nbformat_minor": 5
}